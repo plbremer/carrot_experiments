{
 "cells": [
  {
   "cell_type": "code",
   "execution_count": 3,
   "id": "2188e663",
   "metadata": {},
   "outputs": [],
   "source": [
    "import pandas as pd"
   ]
  },
  {
   "cell_type": "code",
   "execution_count": 4,
   "id": "e51df2f5",
   "metadata": {},
   "outputs": [],
   "source": [
    "file_address='quicktest_human_serum_phosphate_with_dates.csv'"
   ]
  },
  {
   "cell_type": "markdown",
   "id": "03a3f0c5",
   "metadata": {},
   "source": [
    "import pandas as pd\n"
   ]
  },
  {
   "cell_type": "code",
   "execution_count": 5,
   "id": "5e166ae8",
   "metadata": {},
   "outputs": [
    {
     "name": "stderr",
     "output_type": "stream",
     "text": [
      "<ipython-input-5-06e789cdf4f3>:1: ParserWarning: Falling back to the 'python' engine because the separator encoded in utf-8 is > 1 char long, and the 'c' engine does not support such separators; you can avoid this warning by specifying engine='python'.\n",
      "  temp=pd.read_csv(file_address,sep='¬')\n"
     ]
    }
   ],
   "source": [
    "temp=pd.read_csv(file_address,sep='¬')"
   ]
  },
  {
   "cell_type": "markdown",
   "id": "7e53f78c",
   "metadata": {},
   "source": [
    "temp"
   ]
  },
  {
   "cell_type": "code",
   "execution_count": 6,
   "id": "195c9fa4",
   "metadata": {},
   "outputs": [
    {
     "data": {
      "text/html": [
       "<div>\n",
       "<style scoped>\n",
       "    .dataframe tbody tr th:only-of-type {\n",
       "        vertical-align: middle;\n",
       "    }\n",
       "\n",
       "    .dataframe tbody tr th {\n",
       "        vertical-align: top;\n",
       "    }\n",
       "\n",
       "    .dataframe thead th {\n",
       "        text-align: right;\n",
       "    }\n",
       "</style>\n",
       "<table border=\"1\" class=\"dataframe\">\n",
       "  <thead>\n",
       "    <tr style=\"text-align: right;\">\n",
       "      <th></th>\n",
       "      <th>normalized_intensity</th>\n",
       "      <th>species</th>\n",
       "      <th>organ</th>\n",
       "      <th>name</th>\n",
       "      <th>comment</th>\n",
       "    </tr>\n",
       "  </thead>\n",
       "  <tbody>\n",
       "    <tr>\n",
       "      <th>0</th>\n",
       "      <td>0.006560</td>\n",
       "      <td>human</td>\n",
       "      <td>serum</td>\n",
       "      <td>phosphate</td>\n",
       "      <td>date: 2021-04-12 12:00:00, architecture: Leco ...</td>\n",
       "    </tr>\n",
       "    <tr>\n",
       "      <th>1</th>\n",
       "      <td>0.001929</td>\n",
       "      <td>human</td>\n",
       "      <td>serum</td>\n",
       "      <td>phosphate</td>\n",
       "      <td>date: 2018-09-29 12:00:00, architecture: Leco ...</td>\n",
       "    </tr>\n",
       "    <tr>\n",
       "      <th>2</th>\n",
       "      <td>0.009257</td>\n",
       "      <td>human</td>\n",
       "      <td>serum</td>\n",
       "      <td>phosphate</td>\n",
       "      <td>date: 2020-02-01 12:00:00, architecture: Leco ...</td>\n",
       "    </tr>\n",
       "    <tr>\n",
       "      <th>3</th>\n",
       "      <td>0.014693</td>\n",
       "      <td>human</td>\n",
       "      <td>serum</td>\n",
       "      <td>phosphate</td>\n",
       "      <td>date: 2020-03-05 12:00:00, architecture: Leco ...</td>\n",
       "    </tr>\n",
       "    <tr>\n",
       "      <th>4</th>\n",
       "      <td>0.018511</td>\n",
       "      <td>human</td>\n",
       "      <td>serum</td>\n",
       "      <td>phosphate</td>\n",
       "      <td>date: 2020-03-08 12:00:00, architecture: Leco ...</td>\n",
       "    </tr>\n",
       "    <tr>\n",
       "      <th>...</th>\n",
       "      <td>...</td>\n",
       "      <td>...</td>\n",
       "      <td>...</td>\n",
       "      <td>...</td>\n",
       "      <td>...</td>\n",
       "    </tr>\n",
       "    <tr>\n",
       "      <th>3833</th>\n",
       "      <td>0.050936</td>\n",
       "      <td>human</td>\n",
       "      <td>serum</td>\n",
       "      <td>phosphate</td>\n",
       "      <td>date: 2018-07-12 12:00:00, architecture: Leco ...</td>\n",
       "    </tr>\n",
       "    <tr>\n",
       "      <th>3834</th>\n",
       "      <td>0.001245</td>\n",
       "      <td>human</td>\n",
       "      <td>serum</td>\n",
       "      <td>phosphate</td>\n",
       "      <td>date: 2018-09-29 12:00:00, architecture: Leco ...</td>\n",
       "    </tr>\n",
       "    <tr>\n",
       "      <th>3835</th>\n",
       "      <td>0.018578</td>\n",
       "      <td>human</td>\n",
       "      <td>serum</td>\n",
       "      <td>phosphate</td>\n",
       "      <td>date: 2019-04-23 12:00:00, architecture: Leco ...</td>\n",
       "    </tr>\n",
       "    <tr>\n",
       "      <th>3836</th>\n",
       "      <td>0.012000</td>\n",
       "      <td>human</td>\n",
       "      <td>serum</td>\n",
       "      <td>phosphate</td>\n",
       "      <td>date: 2020-01-29 12:00:00, architecture: Leco ...</td>\n",
       "    </tr>\n",
       "    <tr>\n",
       "      <th>3837</th>\n",
       "      <td>0.010047</td>\n",
       "      <td>human</td>\n",
       "      <td>serum</td>\n",
       "      <td>phosphate</td>\n",
       "      <td>date: 2019-04-15 12:00:00, architecture: Leco ...</td>\n",
       "    </tr>\n",
       "  </tbody>\n",
       "</table>\n",
       "<p>3838 rows × 5 columns</p>\n",
       "</div>"
      ],
      "text/plain": [
       "      normalized_intensity species  organ       name  \\\n",
       "0                 0.006560   human  serum  phosphate   \n",
       "1                 0.001929   human  serum  phosphate   \n",
       "2                 0.009257   human  serum  phosphate   \n",
       "3                 0.014693   human  serum  phosphate   \n",
       "4                 0.018511   human  serum  phosphate   \n",
       "...                    ...     ...    ...        ...   \n",
       "3833              0.050936   human  serum  phosphate   \n",
       "3834              0.001245   human  serum  phosphate   \n",
       "3835              0.018578   human  serum  phosphate   \n",
       "3836              0.012000   human  serum  phosphate   \n",
       "3837              0.010047   human  serum  phosphate   \n",
       "\n",
       "                                                comment  \n",
       "0     date: 2021-04-12 12:00:00, architecture: Leco ...  \n",
       "1     date: 2018-09-29 12:00:00, architecture: Leco ...  \n",
       "2     date: 2020-02-01 12:00:00, architecture: Leco ...  \n",
       "3     date: 2020-03-05 12:00:00, architecture: Leco ...  \n",
       "4     date: 2020-03-08 12:00:00, architecture: Leco ...  \n",
       "...                                                 ...  \n",
       "3833  date: 2018-07-12 12:00:00, architecture: Leco ...  \n",
       "3834  date: 2018-09-29 12:00:00, architecture: Leco ...  \n",
       "3835  date: 2019-04-23 12:00:00, architecture: Leco ...  \n",
       "3836  date: 2020-01-29 12:00:00, architecture: Leco ...  \n",
       "3837  date: 2019-04-15 12:00:00, architecture: Leco ...  \n",
       "\n",
       "[3838 rows x 5 columns]"
      ]
     },
     "execution_count": 6,
     "metadata": {},
     "output_type": "execute_result"
    }
   ],
   "source": [
    "temp"
   ]
  },
  {
   "cell_type": "code",
   "execution_count": 7,
   "id": "317a5bc6",
   "metadata": {},
   "outputs": [],
   "source": [
    "def select_year(temp_string):\n",
    "    return temp_string[6:10]"
   ]
  },
  {
   "cell_type": "code",
   "execution_count": 8,
   "id": "34eeabef",
   "metadata": {},
   "outputs": [],
   "source": [
    "temp['year']=temp['comment'].map(select_year)"
   ]
  },
  {
   "cell_type": "code",
   "execution_count": 9,
   "id": "b51f96a5",
   "metadata": {},
   "outputs": [],
   "source": [
    "#temp['year']=temp['comment'].to_string()[14:18]"
   ]
  },
  {
   "cell_type": "code",
   "execution_count": 10,
   "id": "495f4747",
   "metadata": {},
   "outputs": [
    {
     "data": {
      "text/html": [
       "<div>\n",
       "<style scoped>\n",
       "    .dataframe tbody tr th:only-of-type {\n",
       "        vertical-align: middle;\n",
       "    }\n",
       "\n",
       "    .dataframe tbody tr th {\n",
       "        vertical-align: top;\n",
       "    }\n",
       "\n",
       "    .dataframe thead th {\n",
       "        text-align: right;\n",
       "    }\n",
       "</style>\n",
       "<table border=\"1\" class=\"dataframe\">\n",
       "  <thead>\n",
       "    <tr style=\"text-align: right;\">\n",
       "      <th></th>\n",
       "      <th>normalized_intensity</th>\n",
       "      <th>species</th>\n",
       "      <th>organ</th>\n",
       "      <th>name</th>\n",
       "      <th>comment</th>\n",
       "      <th>year</th>\n",
       "    </tr>\n",
       "  </thead>\n",
       "  <tbody>\n",
       "    <tr>\n",
       "      <th>0</th>\n",
       "      <td>0.006560</td>\n",
       "      <td>human</td>\n",
       "      <td>serum</td>\n",
       "      <td>phosphate</td>\n",
       "      <td>date: 2021-04-12 12:00:00, architecture: Leco ...</td>\n",
       "      <td>2021</td>\n",
       "    </tr>\n",
       "    <tr>\n",
       "      <th>1</th>\n",
       "      <td>0.001929</td>\n",
       "      <td>human</td>\n",
       "      <td>serum</td>\n",
       "      <td>phosphate</td>\n",
       "      <td>date: 2018-09-29 12:00:00, architecture: Leco ...</td>\n",
       "      <td>2018</td>\n",
       "    </tr>\n",
       "    <tr>\n",
       "      <th>2</th>\n",
       "      <td>0.009257</td>\n",
       "      <td>human</td>\n",
       "      <td>serum</td>\n",
       "      <td>phosphate</td>\n",
       "      <td>date: 2020-02-01 12:00:00, architecture: Leco ...</td>\n",
       "      <td>2020</td>\n",
       "    </tr>\n",
       "    <tr>\n",
       "      <th>3</th>\n",
       "      <td>0.014693</td>\n",
       "      <td>human</td>\n",
       "      <td>serum</td>\n",
       "      <td>phosphate</td>\n",
       "      <td>date: 2020-03-05 12:00:00, architecture: Leco ...</td>\n",
       "      <td>2020</td>\n",
       "    </tr>\n",
       "    <tr>\n",
       "      <th>4</th>\n",
       "      <td>0.018511</td>\n",
       "      <td>human</td>\n",
       "      <td>serum</td>\n",
       "      <td>phosphate</td>\n",
       "      <td>date: 2020-03-08 12:00:00, architecture: Leco ...</td>\n",
       "      <td>2020</td>\n",
       "    </tr>\n",
       "    <tr>\n",
       "      <th>...</th>\n",
       "      <td>...</td>\n",
       "      <td>...</td>\n",
       "      <td>...</td>\n",
       "      <td>...</td>\n",
       "      <td>...</td>\n",
       "      <td>...</td>\n",
       "    </tr>\n",
       "    <tr>\n",
       "      <th>3833</th>\n",
       "      <td>0.050936</td>\n",
       "      <td>human</td>\n",
       "      <td>serum</td>\n",
       "      <td>phosphate</td>\n",
       "      <td>date: 2018-07-12 12:00:00, architecture: Leco ...</td>\n",
       "      <td>2018</td>\n",
       "    </tr>\n",
       "    <tr>\n",
       "      <th>3834</th>\n",
       "      <td>0.001245</td>\n",
       "      <td>human</td>\n",
       "      <td>serum</td>\n",
       "      <td>phosphate</td>\n",
       "      <td>date: 2018-09-29 12:00:00, architecture: Leco ...</td>\n",
       "      <td>2018</td>\n",
       "    </tr>\n",
       "    <tr>\n",
       "      <th>3835</th>\n",
       "      <td>0.018578</td>\n",
       "      <td>human</td>\n",
       "      <td>serum</td>\n",
       "      <td>phosphate</td>\n",
       "      <td>date: 2019-04-23 12:00:00, architecture: Leco ...</td>\n",
       "      <td>2019</td>\n",
       "    </tr>\n",
       "    <tr>\n",
       "      <th>3836</th>\n",
       "      <td>0.012000</td>\n",
       "      <td>human</td>\n",
       "      <td>serum</td>\n",
       "      <td>phosphate</td>\n",
       "      <td>date: 2020-01-29 12:00:00, architecture: Leco ...</td>\n",
       "      <td>2020</td>\n",
       "    </tr>\n",
       "    <tr>\n",
       "      <th>3837</th>\n",
       "      <td>0.010047</td>\n",
       "      <td>human</td>\n",
       "      <td>serum</td>\n",
       "      <td>phosphate</td>\n",
       "      <td>date: 2019-04-15 12:00:00, architecture: Leco ...</td>\n",
       "      <td>2019</td>\n",
       "    </tr>\n",
       "  </tbody>\n",
       "</table>\n",
       "<p>3838 rows × 6 columns</p>\n",
       "</div>"
      ],
      "text/plain": [
       "      normalized_intensity species  organ       name  \\\n",
       "0                 0.006560   human  serum  phosphate   \n",
       "1                 0.001929   human  serum  phosphate   \n",
       "2                 0.009257   human  serum  phosphate   \n",
       "3                 0.014693   human  serum  phosphate   \n",
       "4                 0.018511   human  serum  phosphate   \n",
       "...                    ...     ...    ...        ...   \n",
       "3833              0.050936   human  serum  phosphate   \n",
       "3834              0.001245   human  serum  phosphate   \n",
       "3835              0.018578   human  serum  phosphate   \n",
       "3836              0.012000   human  serum  phosphate   \n",
       "3837              0.010047   human  serum  phosphate   \n",
       "\n",
       "                                                comment  year  \n",
       "0     date: 2021-04-12 12:00:00, architecture: Leco ...  2021  \n",
       "1     date: 2018-09-29 12:00:00, architecture: Leco ...  2018  \n",
       "2     date: 2020-02-01 12:00:00, architecture: Leco ...  2020  \n",
       "3     date: 2020-03-05 12:00:00, architecture: Leco ...  2020  \n",
       "4     date: 2020-03-08 12:00:00, architecture: Leco ...  2020  \n",
       "...                                                 ...   ...  \n",
       "3833  date: 2018-07-12 12:00:00, architecture: Leco ...  2018  \n",
       "3834  date: 2018-09-29 12:00:00, architecture: Leco ...  2018  \n",
       "3835  date: 2019-04-23 12:00:00, architecture: Leco ...  2019  \n",
       "3836  date: 2020-01-29 12:00:00, architecture: Leco ...  2020  \n",
       "3837  date: 2019-04-15 12:00:00, architecture: Leco ...  2019  \n",
       "\n",
       "[3838 rows x 6 columns]"
      ]
     },
     "execution_count": 10,
     "metadata": {},
     "output_type": "execute_result"
    }
   ],
   "source": [
    "temp"
   ]
  },
  {
   "cell_type": "code",
   "execution_count": 11,
   "id": "c89cce09",
   "metadata": {},
   "outputs": [],
   "source": [
    "temp=temp.loc[temp.normalized_intensity !=0].copy(deep=True)"
   ]
  },
  {
   "cell_type": "markdown",
   "id": "ea02c280",
   "metadata": {},
   "source": []
  },
  {
   "cell_type": "code",
   "execution_count": 12,
   "id": "e313dcad",
   "metadata": {},
   "outputs": [
    {
     "data": {
      "text/html": [
       "<div>\n",
       "<style scoped>\n",
       "    .dataframe tbody tr th:only-of-type {\n",
       "        vertical-align: middle;\n",
       "    }\n",
       "\n",
       "    .dataframe tbody tr th {\n",
       "        vertical-align: top;\n",
       "    }\n",
       "\n",
       "    .dataframe thead th {\n",
       "        text-align: right;\n",
       "    }\n",
       "</style>\n",
       "<table border=\"1\" class=\"dataframe\">\n",
       "  <thead>\n",
       "    <tr style=\"text-align: right;\">\n",
       "      <th></th>\n",
       "      <th>normalized_intensity</th>\n",
       "      <th>species</th>\n",
       "      <th>organ</th>\n",
       "      <th>name</th>\n",
       "      <th>comment</th>\n",
       "      <th>year</th>\n",
       "    </tr>\n",
       "  </thead>\n",
       "  <tbody>\n",
       "    <tr>\n",
       "      <th>0</th>\n",
       "      <td>0.006560</td>\n",
       "      <td>human</td>\n",
       "      <td>serum</td>\n",
       "      <td>phosphate</td>\n",
       "      <td>date: 2021-04-12 12:00:00, architecture: Leco ...</td>\n",
       "      <td>2021</td>\n",
       "    </tr>\n",
       "    <tr>\n",
       "      <th>1</th>\n",
       "      <td>0.001929</td>\n",
       "      <td>human</td>\n",
       "      <td>serum</td>\n",
       "      <td>phosphate</td>\n",
       "      <td>date: 2018-09-29 12:00:00, architecture: Leco ...</td>\n",
       "      <td>2018</td>\n",
       "    </tr>\n",
       "    <tr>\n",
       "      <th>2</th>\n",
       "      <td>0.009257</td>\n",
       "      <td>human</td>\n",
       "      <td>serum</td>\n",
       "      <td>phosphate</td>\n",
       "      <td>date: 2020-02-01 12:00:00, architecture: Leco ...</td>\n",
       "      <td>2020</td>\n",
       "    </tr>\n",
       "    <tr>\n",
       "      <th>3</th>\n",
       "      <td>0.014693</td>\n",
       "      <td>human</td>\n",
       "      <td>serum</td>\n",
       "      <td>phosphate</td>\n",
       "      <td>date: 2020-03-05 12:00:00, architecture: Leco ...</td>\n",
       "      <td>2020</td>\n",
       "    </tr>\n",
       "    <tr>\n",
       "      <th>4</th>\n",
       "      <td>0.018511</td>\n",
       "      <td>human</td>\n",
       "      <td>serum</td>\n",
       "      <td>phosphate</td>\n",
       "      <td>date: 2020-03-08 12:00:00, architecture: Leco ...</td>\n",
       "      <td>2020</td>\n",
       "    </tr>\n",
       "    <tr>\n",
       "      <th>...</th>\n",
       "      <td>...</td>\n",
       "      <td>...</td>\n",
       "      <td>...</td>\n",
       "      <td>...</td>\n",
       "      <td>...</td>\n",
       "      <td>...</td>\n",
       "    </tr>\n",
       "    <tr>\n",
       "      <th>3833</th>\n",
       "      <td>0.050936</td>\n",
       "      <td>human</td>\n",
       "      <td>serum</td>\n",
       "      <td>phosphate</td>\n",
       "      <td>date: 2018-07-12 12:00:00, architecture: Leco ...</td>\n",
       "      <td>2018</td>\n",
       "    </tr>\n",
       "    <tr>\n",
       "      <th>3834</th>\n",
       "      <td>0.001245</td>\n",
       "      <td>human</td>\n",
       "      <td>serum</td>\n",
       "      <td>phosphate</td>\n",
       "      <td>date: 2018-09-29 12:00:00, architecture: Leco ...</td>\n",
       "      <td>2018</td>\n",
       "    </tr>\n",
       "    <tr>\n",
       "      <th>3835</th>\n",
       "      <td>0.018578</td>\n",
       "      <td>human</td>\n",
       "      <td>serum</td>\n",
       "      <td>phosphate</td>\n",
       "      <td>date: 2019-04-23 12:00:00, architecture: Leco ...</td>\n",
       "      <td>2019</td>\n",
       "    </tr>\n",
       "    <tr>\n",
       "      <th>3836</th>\n",
       "      <td>0.012000</td>\n",
       "      <td>human</td>\n",
       "      <td>serum</td>\n",
       "      <td>phosphate</td>\n",
       "      <td>date: 2020-01-29 12:00:00, architecture: Leco ...</td>\n",
       "      <td>2020</td>\n",
       "    </tr>\n",
       "    <tr>\n",
       "      <th>3837</th>\n",
       "      <td>0.010047</td>\n",
       "      <td>human</td>\n",
       "      <td>serum</td>\n",
       "      <td>phosphate</td>\n",
       "      <td>date: 2019-04-15 12:00:00, architecture: Leco ...</td>\n",
       "      <td>2019</td>\n",
       "    </tr>\n",
       "  </tbody>\n",
       "</table>\n",
       "<p>3833 rows × 6 columns</p>\n",
       "</div>"
      ],
      "text/plain": [
       "      normalized_intensity species  organ       name  \\\n",
       "0                 0.006560   human  serum  phosphate   \n",
       "1                 0.001929   human  serum  phosphate   \n",
       "2                 0.009257   human  serum  phosphate   \n",
       "3                 0.014693   human  serum  phosphate   \n",
       "4                 0.018511   human  serum  phosphate   \n",
       "...                    ...     ...    ...        ...   \n",
       "3833              0.050936   human  serum  phosphate   \n",
       "3834              0.001245   human  serum  phosphate   \n",
       "3835              0.018578   human  serum  phosphate   \n",
       "3836              0.012000   human  serum  phosphate   \n",
       "3837              0.010047   human  serum  phosphate   \n",
       "\n",
       "                                                comment  year  \n",
       "0     date: 2021-04-12 12:00:00, architecture: Leco ...  2021  \n",
       "1     date: 2018-09-29 12:00:00, architecture: Leco ...  2018  \n",
       "2     date: 2020-02-01 12:00:00, architecture: Leco ...  2020  \n",
       "3     date: 2020-03-05 12:00:00, architecture: Leco ...  2020  \n",
       "4     date: 2020-03-08 12:00:00, architecture: Leco ...  2020  \n",
       "...                                                 ...   ...  \n",
       "3833  date: 2018-07-12 12:00:00, architecture: Leco ...  2018  \n",
       "3834  date: 2018-09-29 12:00:00, architecture: Leco ...  2018  \n",
       "3835  date: 2019-04-23 12:00:00, architecture: Leco ...  2019  \n",
       "3836  date: 2020-01-29 12:00:00, architecture: Leco ...  2020  \n",
       "3837  date: 2019-04-15 12:00:00, architecture: Leco ...  2019  \n",
       "\n",
       "[3833 rows x 6 columns]"
      ]
     },
     "execution_count": 12,
     "metadata": {},
     "output_type": "execute_result"
    }
   ],
   "source": [
    "temp"
   ]
  },
  {
   "cell_type": "code",
   "execution_count": 13,
   "id": "173d11e6",
   "metadata": {},
   "outputs": [
    {
     "data": {
      "text/plain": [
       "<AxesSubplot:>"
      ]
     },
     "execution_count": 13,
     "metadata": {},
     "output_type": "execute_result"
    },
    {
     "data": {
      "image/png": "[encoded data removed]",
      "text/plain": [
       "<Figure size 432x288 with 1 Axes>"
      ]
     },
     "metadata": {
      "needs_background": "light"
     },
     "output_type": "display_data"
    }
   ],
   "source": [
    "temp.normalized_intensity.hist(bins=50)"
   ]
  },
  {
   "cell_type": "code",
   "execution_count": 14,
   "id": "e04d76e3",
   "metadata": {},
   "outputs": [],
   "source": [
    "import numpy as np"
   ]
  },
  {
   "cell_type": "code",
   "execution_count": 15,
   "id": "704a2cf8",
   "metadata": {},
   "outputs": [],
   "source": [
    "temp['log']=np.log(temp['normalized_intensity'])"
   ]
  },
  {
   "cell_type": "markdown",
   "id": "5fb88beb",
   "metadata": {},
   "source": []
  },
  {
   "cell_type": "code",
   "execution_count": 16,
   "id": "222232dc",
   "metadata": {},
   "outputs": [
    {
     "data": {
      "text/html": [
       "<div>\n",
       "<style scoped>\n",
       "    .dataframe tbody tr th:only-of-type {\n",
       "        vertical-align: middle;\n",
       "    }\n",
       "\n",
       "    .dataframe tbody tr th {\n",
       "        vertical-align: top;\n",
       "    }\n",
       "\n",
       "    .dataframe thead th {\n",
       "        text-align: right;\n",
       "    }\n",
       "</style>\n",
       "<table border=\"1\" class=\"dataframe\">\n",
       "  <thead>\n",
       "    <tr style=\"text-align: right;\">\n",
       "      <th></th>\n",
       "      <th>normalized_intensity</th>\n",
       "      <th>species</th>\n",
       "      <th>organ</th>\n",
       "      <th>name</th>\n",
       "      <th>comment</th>\n",
       "      <th>year</th>\n",
       "      <th>log</th>\n",
       "    </tr>\n",
       "  </thead>\n",
       "  <tbody>\n",
       "    <tr>\n",
       "      <th>0</th>\n",
       "      <td>0.006560</td>\n",
       "      <td>human</td>\n",
       "      <td>serum</td>\n",
       "      <td>phosphate</td>\n",
       "      <td>date: 2021-04-12 12:00:00, architecture: Leco ...</td>\n",
       "      <td>2021</td>\n",
       "      <td>-5.026742</td>\n",
       "    </tr>\n",
       "    <tr>\n",
       "      <th>1</th>\n",
       "      <td>0.001929</td>\n",
       "      <td>human</td>\n",
       "      <td>serum</td>\n",
       "      <td>phosphate</td>\n",
       "      <td>date: 2018-09-29 12:00:00, architecture: Leco ...</td>\n",
       "      <td>2018</td>\n",
       "      <td>-6.250551</td>\n",
       "    </tr>\n",
       "    <tr>\n",
       "      <th>2</th>\n",
       "      <td>0.009257</td>\n",
       "      <td>human</td>\n",
       "      <td>serum</td>\n",
       "      <td>phosphate</td>\n",
       "      <td>date: 2020-02-01 12:00:00, architecture: Leco ...</td>\n",
       "      <td>2020</td>\n",
       "      <td>-4.682413</td>\n",
       "    </tr>\n",
       "    <tr>\n",
       "      <th>3</th>\n",
       "      <td>0.014693</td>\n",
       "      <td>human</td>\n",
       "      <td>serum</td>\n",
       "      <td>phosphate</td>\n",
       "      <td>date: 2020-03-05 12:00:00, architecture: Leco ...</td>\n",
       "      <td>2020</td>\n",
       "      <td>-4.220406</td>\n",
       "    </tr>\n",
       "    <tr>\n",
       "      <th>4</th>\n",
       "      <td>0.018511</td>\n",
       "      <td>human</td>\n",
       "      <td>serum</td>\n",
       "      <td>phosphate</td>\n",
       "      <td>date: 2020-03-08 12:00:00, architecture: Leco ...</td>\n",
       "      <td>2020</td>\n",
       "      <td>-3.989375</td>\n",
       "    </tr>\n",
       "    <tr>\n",
       "      <th>...</th>\n",
       "      <td>...</td>\n",
       "      <td>...</td>\n",
       "      <td>...</td>\n",
       "      <td>...</td>\n",
       "      <td>...</td>\n",
       "      <td>...</td>\n",
       "      <td>...</td>\n",
       "    </tr>\n",
       "    <tr>\n",
       "      <th>3833</th>\n",
       "      <td>0.050936</td>\n",
       "      <td>human</td>\n",
       "      <td>serum</td>\n",
       "      <td>phosphate</td>\n",
       "      <td>date: 2018-07-12 12:00:00, architecture: Leco ...</td>\n",
       "      <td>2018</td>\n",
       "      <td>-2.977183</td>\n",
       "    </tr>\n",
       "    <tr>\n",
       "      <th>3834</th>\n",
       "      <td>0.001245</td>\n",
       "      <td>human</td>\n",
       "      <td>serum</td>\n",
       "      <td>phosphate</td>\n",
       "      <td>date: 2018-09-29 12:00:00, architecture: Leco ...</td>\n",
       "      <td>2018</td>\n",
       "      <td>-6.688374</td>\n",
       "    </tr>\n",
       "    <tr>\n",
       "      <th>3835</th>\n",
       "      <td>0.018578</td>\n",
       "      <td>human</td>\n",
       "      <td>serum</td>\n",
       "      <td>phosphate</td>\n",
       "      <td>date: 2019-04-23 12:00:00, architecture: Leco ...</td>\n",
       "      <td>2019</td>\n",
       "      <td>-3.985753</td>\n",
       "    </tr>\n",
       "    <tr>\n",
       "      <th>3836</th>\n",
       "      <td>0.012000</td>\n",
       "      <td>human</td>\n",
       "      <td>serum</td>\n",
       "      <td>phosphate</td>\n",
       "      <td>date: 2020-01-29 12:00:00, architecture: Leco ...</td>\n",
       "      <td>2020</td>\n",
       "      <td>-4.422812</td>\n",
       "    </tr>\n",
       "    <tr>\n",
       "      <th>3837</th>\n",
       "      <td>0.010047</td>\n",
       "      <td>human</td>\n",
       "      <td>serum</td>\n",
       "      <td>phosphate</td>\n",
       "      <td>date: 2019-04-15 12:00:00, architecture: Leco ...</td>\n",
       "      <td>2019</td>\n",
       "      <td>-4.600492</td>\n",
       "    </tr>\n",
       "  </tbody>\n",
       "</table>\n",
       "<p>3833 rows × 7 columns</p>\n",
       "</div>"
      ],
      "text/plain": [
       "      normalized_intensity species  organ       name  \\\n",
       "0                 0.006560   human  serum  phosphate   \n",
       "1                 0.001929   human  serum  phosphate   \n",
       "2                 0.009257   human  serum  phosphate   \n",
       "3                 0.014693   human  serum  phosphate   \n",
       "4                 0.018511   human  serum  phosphate   \n",
       "...                    ...     ...    ...        ...   \n",
       "3833              0.050936   human  serum  phosphate   \n",
       "3834              0.001245   human  serum  phosphate   \n",
       "3835              0.018578   human  serum  phosphate   \n",
       "3836              0.012000   human  serum  phosphate   \n",
       "3837              0.010047   human  serum  phosphate   \n",
       "\n",
       "                                                comment  year       log  \n",
       "0     date: 2021-04-12 12:00:00, architecture: Leco ...  2021 -5.026742  \n",
       "1     date: 2018-09-29 12:00:00, architecture: Leco ...  2018 -6.250551  \n",
       "2     date: 2020-02-01 12:00:00, architecture: Leco ...  2020 -4.682413  \n",
       "3     date: 2020-03-05 12:00:00, architecture: Leco ...  2020 -4.220406  \n",
       "4     date: 2020-03-08 12:00:00, architecture: Leco ...  2020 -3.989375  \n",
       "...                                                 ...   ...       ...  \n",
       "3833  date: 2018-07-12 12:00:00, architecture: Leco ...  2018 -2.977183  \n",
       "3834  date: 2018-09-29 12:00:00, architecture: Leco ...  2018 -6.688374  \n",
       "3835  date: 2019-04-23 12:00:00, architecture: Leco ...  2019 -3.985753  \n",
       "3836  date: 2020-01-29 12:00:00, architecture: Leco ...  2020 -4.422812  \n",
       "3837  date: 2019-04-15 12:00:00, architecture: Leco ...  2019 -4.600492  \n",
       "\n",
       "[3833 rows x 7 columns]"
      ]
     },
     "execution_count": 16,
     "metadata": {},
     "output_type": "execute_result"
    }
   ],
   "source": [
    "temp"
   ]
  },
  {
   "cell_type": "code",
   "execution_count": 17,
   "id": "390b0543",
   "metadata": {},
   "outputs": [
    {
     "data": {
      "text/plain": [
       "-1.6247907824293302"
      ]
     },
     "execution_count": 17,
     "metadata": {},
     "output_type": "execute_result"
    }
   ],
   "source": [
    "max=temp.log.max()\n",
    "max"
   ]
  },
  {
   "cell_type": "code",
   "execution_count": 18,
   "id": "d72876fa",
   "metadata": {},
   "outputs": [
    {
     "data": {
      "text/plain": [
       "-9.046326857692337"
      ]
     },
     "execution_count": 18,
     "metadata": {},
     "output_type": "execute_result"
    }
   ],
   "source": [
    "min=temp.log.min()\n",
    "min"
   ]
  },
  {
   "cell_type": "code",
   "execution_count": 19,
   "id": "31be87df",
   "metadata": {},
   "outputs": [
    {
     "data": {
      "text/plain": [
       "0.07421536075263008"
      ]
     },
     "execution_count": 19,
     "metadata": {},
     "output_type": "execute_result"
    }
   ],
   "source": [
    "bin_count=100\n",
    "bin_size=abs((abs(max)-abs(min)))/bin_count\n",
    "bin_size"
   ]
  },
  {
   "cell_type": "code",
   "execution_count": null,
   "id": "4e5368b6",
   "metadata": {},
   "outputs": [],
   "source": []
  },
  {
   "cell_type": "code",
   "execution_count": 20,
   "id": "3980c402",
   "metadata": {},
   "outputs": [
    {
     "data": {
      "text/plain": [
       "2021.0"
      ]
     },
     "execution_count": 20,
     "metadata": {},
     "output_type": "execute_result"
    }
   ],
   "source": [
    "earliest=temp.year.astype(float).min()\n",
    "earliest\n",
    "\n",
    "latest=temp.year.astype(float).max()\n",
    "latest"
   ]
  },
  {
   "cell_type": "code",
   "execution_count": 21,
   "id": "2803ba09",
   "metadata": {},
   "outputs": [
    {
     "data": {
      "text/plain": [
       "2018.0"
      ]
     },
     "execution_count": 21,
     "metadata": {},
     "output_type": "execute_result"
    }
   ],
   "source": [
    "earliest"
   ]
  },
  {
   "cell_type": "code",
   "execution_count": 22,
   "id": "41184bbb",
   "metadata": {},
   "outputs": [],
   "source": [
    "average_year_list=list()\n",
    "for i in range((bin_count)):\n",
    "    bin_edge_1=min+bin_size*i\n",
    "    bin_edge_2=min+bin_size*i+bin_size\n",
    "    #print(str(bin_edge_1)+' '+str(bin_edge_2))\n",
    "    average_year_list.append(temp.loc[(temp.log>=bin_edge_1) & (temp.log<bin_edge_2)]['year'].astype(float).mean())\n",
    "    #print(temp.loc[(temp.log>=bin_edge_1) & (temp.log<bin_edge_2)]['year'].astype(float).mean())\n",
    "    #hold=input('hold')\n",
    "#average_year_list"
   ]
  },
  {
   "cell_type": "code",
   "execution_count": 23,
   "id": "31256913",
   "metadata": {},
   "outputs": [
    {
     "data": {
      "text/plain": [
       "[0.0,\n",
       " 0,\n",
       " 0,\n",
       " 0,\n",
       " 0,\n",
       " 0,\n",
       " 0,\n",
       " 0,\n",
       " 0,\n",
       " 0,\n",
       " 0.0,\n",
       " 0.0,\n",
       " 0.0,\n",
       " 0.0,\n",
       " 0.0,\n",
       " 0.0,\n",
       " 0.0,\n",
       " 0.0,\n",
       " 0.0,\n",
       " 0.0,\n",
       " 0.0,\n",
       " 0.0,\n",
       " 0.0,\n",
       " 0.0,\n",
       " 0.0,\n",
       " 0.0,\n",
       " 0.0,\n",
       " 0.0,\n",
       " 0.0,\n",
       " 0.0,\n",
       " 0.0,\n",
       " 0.0,\n",
       " 0.0,\n",
       " 0.030303030303002743,\n",
       " 0.0,\n",
       " 0.0,\n",
       " 0.0,\n",
       " 0.0,\n",
       " 0.0,\n",
       " 0.025641025641031472,\n",
       " 0.27777777777775253,\n",
       " 0.23809523809525976,\n",
       " 0.4583333333333333,\n",
       " 0.16666666666666666,\n",
       " 0.6666666666666666,\n",
       " 0.5,\n",
       " 0.7619047619047402,\n",
       " 0.8333333333333334,\n",
       " 0.6666666666666666,\n",
       " 0.5833333333333334,\n",
       " 0.8055555555555808,\n",
       " 0.8333333333333334,\n",
       " 0.8412698412698774,\n",
       " 0.7777777777777525,\n",
       " 0.7017543859649322,\n",
       " 0.6989247311827663,\n",
       " 0.643678160919535,\n",
       " 0.6419753086419556,\n",
       " 0.6426116838488269,\n",
       " 0.6363636363636639,\n",
       " 0.6393034825870624,\n",
       " 0.6182795698924414,\n",
       " 0.585434173669455,\n",
       " 0.5390946502057735,\n",
       " 0.5533333333333607,\n",
       " 0.5151515151515014,\n",
       " 0.49563699825481916,\n",
       " 0.48525073746312347,\n",
       " 0.475336322869983,\n",
       " 0.4844720496894297,\n",
       " 0.4523809523809632,\n",
       " 0.45299145299145493,\n",
       " 0.40625,\n",
       " 0.35185185185188556,\n",
       " 0.365591397849433,\n",
       " 0.5362318840579974,\n",
       " 0.44444444444441916,\n",
       " 0.507936507936544,\n",
       " 0.5,\n",
       " 0.44444444444441916,\n",
       " 0.4333333333333182,\n",
       " 0.3565891472868164,\n",
       " 0.4186046511627713,\n",
       " 0.19047619047622297,\n",
       " 0.14035087719298645,\n",
       " 0.19607843137252226,\n",
       " 0.04761904761903679,\n",
       " 0.0,\n",
       " 0.3333333333333333,\n",
       " 0.0,\n",
       " 0,\n",
       " 0,\n",
       " 0,\n",
       " 0,\n",
       " 0.3333333333333333,\n",
       " 0,\n",
       " 0.3333333333333333,\n",
       " 0.3333333333333333,\n",
       " 0,\n",
       " 0.3333333333333333]"
      ]
     },
     "execution_count": 23,
     "metadata": {},
     "output_type": "execute_result"
    }
   ],
   "source": [
    "color_bar_list=list()\n",
    "for i in range(len(average_year_list)):\n",
    "    if pd.isnull(average_year_list[i]):\n",
    "        #print(average_year_list[i])\n",
    "        color_bar_list.append(0)\n",
    "    else:\n",
    "        color_bar_list.append((average_year_list[i]-earliest)/(latest-earliest))\n",
    "color_bar_list"
   ]
  },
  {
   "cell_type": "code",
   "execution_count": null,
   "id": "06f379a5",
   "metadata": {},
   "outputs": [],
   "source": []
  },
  {
   "cell_type": "code",
   "execution_count": 25,
   "id": "64b87492",
   "metadata": {},
   "outputs": [],
   "source": [
    "#temp.log.hist(bins=100,color=color_bar_list)"
   ]
  },
  {
   "cell_type": "code",
   "execution_count": 26,
   "id": "d7f984a7",
   "metadata": {},
   "outputs": [],
   "source": [
    "import matplotlib.pyplot as plt"
   ]
  },
  {
   "cell_type": "code",
   "execution_count": 27,
   "id": "918f6ba7",
   "metadata": {},
   "outputs": [],
   "source": [
    "my_cmap=plt.get_cmap('inferno')"
   ]
  },
  {
   "cell_type": "code",
   "execution_count": 28,
   "id": "3f7fda2a",
   "metadata": {},
   "outputs": [
    {
     "data": {
      "image/png": "[encoded data removed]",
      "text/plain": [
       "<Figure size 432x288 with 1 Axes>"
      ]
     },
     "metadata": {
      "needs_background": "light"
     },
     "output_type": "display_data"
    }
   ],
   "source": [
    "N,bins,patches=plt.hist(temp['log'],100)\n",
    "for i in range(len(patches)):\n",
    "    patches[i].set_facecolor(my_cmap(color_bar_list[i]))\n"
   ]
  },
  {
   "cell_type": "code",
   "execution_count": null,
   "id": "cb557631",
   "metadata": {},
   "outputs": [],
   "source": [
    "\n"
   ]
  },
  {
   "cell_type": "code",
   "execution_count": 29,
   "id": "6acbcb6a",
   "metadata": {},
   "outputs": [
    {
     "data": {
      "text/html": [
       "<div>\n",
       "<style scoped>\n",
       "    .dataframe tbody tr th:only-of-type {\n",
       "        vertical-align: middle;\n",
       "    }\n",
       "\n",
       "    .dataframe tbody tr th {\n",
       "        vertical-align: top;\n",
       "    }\n",
       "\n",
       "    .dataframe thead th {\n",
       "        text-align: right;\n",
       "    }\n",
       "</style>\n",
       "<table border=\"1\" class=\"dataframe\">\n",
       "  <thead>\n",
       "    <tr style=\"text-align: right;\">\n",
       "      <th></th>\n",
       "      <th>normalized_intensity</th>\n",
       "      <th>species</th>\n",
       "      <th>organ</th>\n",
       "      <th>name</th>\n",
       "      <th>comment</th>\n",
       "      <th>year</th>\n",
       "      <th>log</th>\n",
       "    </tr>\n",
       "  </thead>\n",
       "  <tbody>\n",
       "    <tr>\n",
       "      <th>0</th>\n",
       "      <td>0.006560</td>\n",
       "      <td>human</td>\n",
       "      <td>serum</td>\n",
       "      <td>phosphate</td>\n",
       "      <td>date: 2021-04-12 12:00:00, architecture: Leco ...</td>\n",
       "      <td>2021</td>\n",
       "      <td>-5.026742</td>\n",
       "    </tr>\n",
       "    <tr>\n",
       "      <th>1</th>\n",
       "      <td>0.001929</td>\n",
       "      <td>human</td>\n",
       "      <td>serum</td>\n",
       "      <td>phosphate</td>\n",
       "      <td>date: 2018-09-29 12:00:00, architecture: Leco ...</td>\n",
       "      <td>2018</td>\n",
       "      <td>-6.250551</td>\n",
       "    </tr>\n",
       "    <tr>\n",
       "      <th>2</th>\n",
       "      <td>0.009257</td>\n",
       "      <td>human</td>\n",
       "      <td>serum</td>\n",
       "      <td>phosphate</td>\n",
       "      <td>date: 2020-02-01 12:00:00, architecture: Leco ...</td>\n",
       "      <td>2020</td>\n",
       "      <td>-4.682413</td>\n",
       "    </tr>\n",
       "    <tr>\n",
       "      <th>3</th>\n",
       "      <td>0.014693</td>\n",
       "      <td>human</td>\n",
       "      <td>serum</td>\n",
       "      <td>phosphate</td>\n",
       "      <td>date: 2020-03-05 12:00:00, architecture: Leco ...</td>\n",
       "      <td>2020</td>\n",
       "      <td>-4.220406</td>\n",
       "    </tr>\n",
       "    <tr>\n",
       "      <th>4</th>\n",
       "      <td>0.018511</td>\n",
       "      <td>human</td>\n",
       "      <td>serum</td>\n",
       "      <td>phosphate</td>\n",
       "      <td>date: 2020-03-08 12:00:00, architecture: Leco ...</td>\n",
       "      <td>2020</td>\n",
       "      <td>-3.989375</td>\n",
       "    </tr>\n",
       "    <tr>\n",
       "      <th>...</th>\n",
       "      <td>...</td>\n",
       "      <td>...</td>\n",
       "      <td>...</td>\n",
       "      <td>...</td>\n",
       "      <td>...</td>\n",
       "      <td>...</td>\n",
       "      <td>...</td>\n",
       "    </tr>\n",
       "    <tr>\n",
       "      <th>3833</th>\n",
       "      <td>0.050936</td>\n",
       "      <td>human</td>\n",
       "      <td>serum</td>\n",
       "      <td>phosphate</td>\n",
       "      <td>date: 2018-07-12 12:00:00, architecture: Leco ...</td>\n",
       "      <td>2018</td>\n",
       "      <td>-2.977183</td>\n",
       "    </tr>\n",
       "    <tr>\n",
       "      <th>3834</th>\n",
       "      <td>0.001245</td>\n",
       "      <td>human</td>\n",
       "      <td>serum</td>\n",
       "      <td>phosphate</td>\n",
       "      <td>date: 2018-09-29 12:00:00, architecture: Leco ...</td>\n",
       "      <td>2018</td>\n",
       "      <td>-6.688374</td>\n",
       "    </tr>\n",
       "    <tr>\n",
       "      <th>3835</th>\n",
       "      <td>0.018578</td>\n",
       "      <td>human</td>\n",
       "      <td>serum</td>\n",
       "      <td>phosphate</td>\n",
       "      <td>date: 2019-04-23 12:00:00, architecture: Leco ...</td>\n",
       "      <td>2019</td>\n",
       "      <td>-3.985753</td>\n",
       "    </tr>\n",
       "    <tr>\n",
       "      <th>3836</th>\n",
       "      <td>0.012000</td>\n",
       "      <td>human</td>\n",
       "      <td>serum</td>\n",
       "      <td>phosphate</td>\n",
       "      <td>date: 2020-01-29 12:00:00, architecture: Leco ...</td>\n",
       "      <td>2020</td>\n",
       "      <td>-4.422812</td>\n",
       "    </tr>\n",
       "    <tr>\n",
       "      <th>3837</th>\n",
       "      <td>0.010047</td>\n",
       "      <td>human</td>\n",
       "      <td>serum</td>\n",
       "      <td>phosphate</td>\n",
       "      <td>date: 2019-04-15 12:00:00, architecture: Leco ...</td>\n",
       "      <td>2019</td>\n",
       "      <td>-4.600492</td>\n",
       "    </tr>\n",
       "  </tbody>\n",
       "</table>\n",
       "<p>3833 rows × 7 columns</p>\n",
       "</div>"
      ],
      "text/plain": [
       "      normalized_intensity species  organ       name  \\\n",
       "0                 0.006560   human  serum  phosphate   \n",
       "1                 0.001929   human  serum  phosphate   \n",
       "2                 0.009257   human  serum  phosphate   \n",
       "3                 0.014693   human  serum  phosphate   \n",
       "4                 0.018511   human  serum  phosphate   \n",
       "...                    ...     ...    ...        ...   \n",
       "3833              0.050936   human  serum  phosphate   \n",
       "3834              0.001245   human  serum  phosphate   \n",
       "3835              0.018578   human  serum  phosphate   \n",
       "3836              0.012000   human  serum  phosphate   \n",
       "3837              0.010047   human  serum  phosphate   \n",
       "\n",
       "                                                comment  year       log  \n",
       "0     date: 2021-04-12 12:00:00, architecture: Leco ...  2021 -5.026742  \n",
       "1     date: 2018-09-29 12:00:00, architecture: Leco ...  2018 -6.250551  \n",
       "2     date: 2020-02-01 12:00:00, architecture: Leco ...  2020 -4.682413  \n",
       "3     date: 2020-03-05 12:00:00, architecture: Leco ...  2020 -4.220406  \n",
       "4     date: 2020-03-08 12:00:00, architecture: Leco ...  2020 -3.989375  \n",
       "...                                                 ...   ...       ...  \n",
       "3833  date: 2018-07-12 12:00:00, architecture: Leco ...  2018 -2.977183  \n",
       "3834  date: 2018-09-29 12:00:00, architecture: Leco ...  2018 -6.688374  \n",
       "3835  date: 2019-04-23 12:00:00, architecture: Leco ...  2019 -3.985753  \n",
       "3836  date: 2020-01-29 12:00:00, architecture: Leco ...  2020 -4.422812  \n",
       "3837  date: 2019-04-15 12:00:00, architecture: Leco ...  2019 -4.600492  \n",
       "\n",
       "[3833 rows x 7 columns]"
      ]
     },
     "execution_count": 29,
     "metadata": {},
     "output_type": "execute_result"
    }
   ],
   "source": [
    "temp"
   ]
  },
  {
   "cell_type": "code",
   "execution_count": 30,
   "id": "bee3b62f",
   "metadata": {},
   "outputs": [
    {
     "ename": "NameError",
     "evalue": "name 'temp_year' is not defined",
     "output_type": "error",
     "traceback": [
      "\u001b[0;31m---------------------------------------------------------------------------\u001b[0m",
      "\u001b[0;31mNameError\u001b[0m                                 Traceback (most recent call last)",
      "\u001b[0;32m<ipython-input-30-c49d3a2d4c4d>\u001b[0m in \u001b[0;36m<module>\u001b[0;34m\u001b[0m\n\u001b[0;32m----> 1\u001b[0;31m \u001b[0mtemp\u001b[0m\u001b[0;34m[\u001b[0m\u001b[0;34m'log'\u001b[0m\u001b[0;34m]\u001b[0m\u001b[0;34m.\u001b[0m\u001b[0mloc\u001b[0m\u001b[0;34m[\u001b[0m\u001b[0mtemp\u001b[0m\u001b[0;34m[\u001b[0m\u001b[0;34m'year'\u001b[0m\u001b[0;34m]\u001b[0m\u001b[0;34m==\u001b[0m\u001b[0mtemp_year\u001b[0m\u001b[0;34m]\u001b[0m\u001b[0;34m.\u001b[0m\u001b[0mto_list\u001b[0m\u001b[0;34m(\u001b[0m\u001b[0;34m)\u001b[0m\u001b[0;34m\u001b[0m\u001b[0;34m\u001b[0m\u001b[0m\n\u001b[0m",
      "\u001b[0;31mNameError\u001b[0m: name 'temp_year' is not defined"
     ]
    }
   ],
   "source": [
    "temp['log'].loc[temp['year']==temp_year].to_list()"
   ]
  },
  {
   "cell_type": "code",
   "execution_count": 31,
   "id": "5e451eea",
   "metadata": {},
   "outputs": [
    {
     "name": "stdout",
     "output_type": "stream",
     "text": [
      "0\n",
      "1\n",
      "2\n",
      "3\n"
     ]
    },
    {
     "data": {
      "image/png": "[encoded data removed]",
      "text/plain": [
       "<Figure size 1440x360 with 4 Axes>"
      ]
     },
     "metadata": {
      "needs_background": "light"
     },
     "output_type": "display_data"
    }
   ],
   "source": [
    "fig,axs=plt.subplots(1,4,figsize=(20,5))\n",
    "for i,temp_year in enumerate(temp['year'].unique()):\n",
    "    print(i)\n",
    "    #temp['log'].loc[temp['year']==i].hist(bins=100)\n",
    "    axs[i].hist(temp['log'].loc[temp['year']==temp_year].to_list(),bins=100,range=(min,max))\n",
    "    axs[i].set_ylim([0,120],auto=True)"
   ]
  },
  {
   "cell_type": "code",
   "execution_count": null,
   "id": "5cb93607",
   "metadata": {},
   "outputs": [],
   "source": []
  },
  {
   "cell_type": "code",
   "execution_count": null,
   "id": "e4ba2b29",
   "metadata": {},
   "outputs": [],
   "source": []
  },
  {
   "cell_type": "code",
   "execution_count": null,
   "id": "acaadfb4",
   "metadata": {},
   "outputs": [],
   "source": []
  },
  {
   "cell_type": "code",
   "execution_count": null,
   "id": "b0c46580",
   "metadata": {},
   "outputs": [],
   "source": []
  },
  {
   "cell_type": "code",
   "execution_count": null,
   "id": "1b442e32",
   "metadata": {},
   "outputs": [],
   "source": []
  },
  {
   "cell_type": "code",
   "execution_count": null,
   "id": "a28f9daf",
   "metadata": {},
   "outputs": [],
   "source": []
  },
  {
   "cell_type": "code",
   "execution_count": null,
   "id": "6fbf377a",
   "metadata": {},
   "outputs": [],
   "source": []
  },
  {
   "cell_type": "code",
   "execution_count": null,
   "id": "588378ce",
   "metadata": {},
   "outputs": [],
   "source": []
  }
 ],
 "metadata": {
  "kernelspec": {
   "display_name": "Python 3",
   "language": "python",
   "name": "python3"
  },
  "language_info": {
   "codemirror_mode": {
    "name": "ipython",
    "version": 3
   },
   "file_extension": ".py",
   "mimetype": "text/x-python",
   "name": "python",
   "nbconvert_exporter": "python",
   "pygments_lexer": "ipython3",
   "version": "3.8.8"
  }
 },
 "nbformat": 4,
 "nbformat_minor": 5
}
