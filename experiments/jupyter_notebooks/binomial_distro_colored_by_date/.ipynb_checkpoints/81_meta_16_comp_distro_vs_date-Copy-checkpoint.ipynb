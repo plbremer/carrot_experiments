{
 "cells": [
  {
   "cell_type": "code",
   "execution_count": 48,
   "id": "d9d53cdd",
   "metadata": {},
   "outputs": [],
   "source": [
    "file_address='all_81_metadata_with_dates.csv'"
   ]
  },
  {
   "cell_type": "code",
   "execution_count": 49,
   "id": "346a2eaa",
   "metadata": {},
   "outputs": [],
   "source": [
    "import pandas as pd\n"
   ]
  },
  {
   "cell_type": "code",
   "execution_count": 50,
   "id": "b386e1f9",
   "metadata": {},
   "outputs": [
    {
     "name": "stderr",
     "output_type": "stream",
     "text": [
      "<ipython-input-50-06e789cdf4f3>:1: ParserWarning: Falling back to the 'python' engine because the separator encoded in utf-8 is > 1 char long, and the 'c' engine does not support such separators; you can avoid this warning by specifying engine='python'.\n",
      "  temp=pd.read_csv(file_address,sep='¬')\n"
     ]
    }
   ],
   "source": [
    "temp=pd.read_csv(file_address,sep='¬')"
   ]
  },
  {
   "cell_type": "markdown",
   "id": "6146564d",
   "metadata": {},
   "source": []
  },
  {
   "cell_type": "code",
   "execution_count": 51,
   "id": "04f30093",
   "metadata": {},
   "outputs": [
    {
     "data": {
      "text/html": [
       "<div>\n",
       "<style scoped>\n",
       "    .dataframe tbody tr th:only-of-type {\n",
       "        vertical-align: middle;\n",
       "    }\n",
       "\n",
       "    .dataframe tbody tr th {\n",
       "        vertical-align: top;\n",
       "    }\n",
       "\n",
       "    .dataframe thead th {\n",
       "        text-align: right;\n",
       "    }\n",
       "</style>\n",
       "<table border=\"1\" class=\"dataframe\">\n",
       "  <thead>\n",
       "    <tr style=\"text-align: right;\">\n",
       "      <th></th>\n",
       "      <th>normalized_intensity</th>\n",
       "      <th>species</th>\n",
       "      <th>organ</th>\n",
       "      <th>name</th>\n",
       "      <th>comment</th>\n",
       "    </tr>\n",
       "  </thead>\n",
       "  <tbody>\n",
       "    <tr>\n",
       "      <th>0</th>\n",
       "      <td>0.002854</td>\n",
       "      <td>Human</td>\n",
       "      <td>serum</td>\n",
       "      <td>2-ketoisocaproic acid minor</td>\n",
       "      <td>date: 2014-03-17 00:00:00, architecture: Leco ...</td>\n",
       "    </tr>\n",
       "    <tr>\n",
       "      <th>1</th>\n",
       "      <td>0.225704</td>\n",
       "      <td>Human</td>\n",
       "      <td>serum</td>\n",
       "      <td>3-hydroxybutyric acid</td>\n",
       "      <td>date: 2014-03-17 00:00:00, architecture: Leco ...</td>\n",
       "    </tr>\n",
       "    <tr>\n",
       "      <th>2</th>\n",
       "      <td>0.282699</td>\n",
       "      <td>Human</td>\n",
       "      <td>serum</td>\n",
       "      <td>z mstfa artifact</td>\n",
       "      <td>date: 2014-03-17 00:00:00, architecture: Leco ...</td>\n",
       "    </tr>\n",
       "    <tr>\n",
       "      <th>3</th>\n",
       "      <td>0.037040</td>\n",
       "      <td>Human</td>\n",
       "      <td>serum</td>\n",
       "      <td>2-hydroxybutanoic acid</td>\n",
       "      <td>date: 2014-03-17 00:00:00, architecture: Leco ...</td>\n",
       "    </tr>\n",
       "    <tr>\n",
       "      <th>4</th>\n",
       "      <td>0.003298</td>\n",
       "      <td>Human</td>\n",
       "      <td>serum</td>\n",
       "      <td>62</td>\n",
       "      <td>date: 2014-03-17 00:00:00, architecture: Leco ...</td>\n",
       "    </tr>\n",
       "    <tr>\n",
       "      <th>...</th>\n",
       "      <td>...</td>\n",
       "      <td>...</td>\n",
       "      <td>...</td>\n",
       "      <td>...</td>\n",
       "      <td>...</td>\n",
       "    </tr>\n",
       "    <tr>\n",
       "      <th>2899458</th>\n",
       "      <td>0.153993</td>\n",
       "      <td>human</td>\n",
       "      <td>serum</td>\n",
       "      <td>z C09 FAME internal standard</td>\n",
       "      <td>date: 2019-04-15 12:00:00, architecture: Leco ...</td>\n",
       "    </tr>\n",
       "    <tr>\n",
       "      <th>2899459</th>\n",
       "      <td>0.124645</td>\n",
       "      <td>human</td>\n",
       "      <td>serum</td>\n",
       "      <td>z C08 FAME internal standard</td>\n",
       "      <td>date: 2019-04-15 12:00:00, architecture: Leco ...</td>\n",
       "    </tr>\n",
       "    <tr>\n",
       "      <th>2899460</th>\n",
       "      <td>0.158661</td>\n",
       "      <td>human</td>\n",
       "      <td>serum</td>\n",
       "      <td>z C16 FAME internal standard</td>\n",
       "      <td>date: 2019-04-15 12:00:00, architecture: Leco ...</td>\n",
       "    </tr>\n",
       "    <tr>\n",
       "      <th>2899461</th>\n",
       "      <td>0.142259</td>\n",
       "      <td>human</td>\n",
       "      <td>serum</td>\n",
       "      <td>z C14 FAME internal standard</td>\n",
       "      <td>date: 2019-04-15 12:00:00, architecture: Leco ...</td>\n",
       "    </tr>\n",
       "    <tr>\n",
       "      <th>2899462</th>\n",
       "      <td>0.161105</td>\n",
       "      <td>human</td>\n",
       "      <td>serum</td>\n",
       "      <td>z C10 FAME internal standard</td>\n",
       "      <td>date: 2019-04-15 12:00:00, architecture: Leco ...</td>\n",
       "    </tr>\n",
       "  </tbody>\n",
       "</table>\n",
       "<p>2899463 rows × 5 columns</p>\n",
       "</div>"
      ],
      "text/plain": [
       "         normalized_intensity species  organ                          name  \\\n",
       "0                    0.002854   Human  serum   2-ketoisocaproic acid minor   \n",
       "1                    0.225704   Human  serum         3-hydroxybutyric acid   \n",
       "2                    0.282699   Human  serum              z mstfa artifact   \n",
       "3                    0.037040   Human  serum        2-hydroxybutanoic acid   \n",
       "4                    0.003298   Human  serum                            62   \n",
       "...                       ...     ...    ...                           ...   \n",
       "2899458              0.153993   human  serum  z C09 FAME internal standard   \n",
       "2899459              0.124645   human  serum  z C08 FAME internal standard   \n",
       "2899460              0.158661   human  serum  z C16 FAME internal standard   \n",
       "2899461              0.142259   human  serum  z C14 FAME internal standard   \n",
       "2899462              0.161105   human  serum  z C10 FAME internal standard   \n",
       "\n",
       "                                                   comment  \n",
       "0        date: 2014-03-17 00:00:00, architecture: Leco ...  \n",
       "1        date: 2014-03-17 00:00:00, architecture: Leco ...  \n",
       "2        date: 2014-03-17 00:00:00, architecture: Leco ...  \n",
       "3        date: 2014-03-17 00:00:00, architecture: Leco ...  \n",
       "4        date: 2014-03-17 00:00:00, architecture: Leco ...  \n",
       "...                                                    ...  \n",
       "2899458  date: 2019-04-15 12:00:00, architecture: Leco ...  \n",
       "2899459  date: 2019-04-15 12:00:00, architecture: Leco ...  \n",
       "2899460  date: 2019-04-15 12:00:00, architecture: Leco ...  \n",
       "2899461  date: 2019-04-15 12:00:00, architecture: Leco ...  \n",
       "2899462  date: 2019-04-15 12:00:00, architecture: Leco ...  \n",
       "\n",
       "[2899463 rows x 5 columns]"
      ]
     },
     "execution_count": 51,
     "metadata": {},
     "output_type": "execute_result"
    }
   ],
   "source": [
    "temp"
   ]
  },
  {
   "cell_type": "code",
   "execution_count": 52,
   "id": "e1defdd9",
   "metadata": {},
   "outputs": [],
   "source": [
    "def select_year(temp_string):\n",
    "    return temp_string[6:10]"
   ]
  },
  {
   "cell_type": "code",
   "execution_count": 53,
   "id": "6ef083c1",
   "metadata": {},
   "outputs": [],
   "source": [
    "temp['year']=temp['comment'].map(select_year)"
   ]
  },
  {
   "cell_type": "code",
   "execution_count": 54,
   "id": "a7594c28",
   "metadata": {},
   "outputs": [],
   "source": [
    "temp=temp.loc[temp.normalized_intensity !=0].copy(deep=True)"
   ]
  },
  {
   "cell_type": "code",
   "execution_count": 55,
   "id": "d2abe1f2",
   "metadata": {},
   "outputs": [
    {
     "data": {
      "text/html": [
       "<div>\n",
       "<style scoped>\n",
       "    .dataframe tbody tr th:only-of-type {\n",
       "        vertical-align: middle;\n",
       "    }\n",
       "\n",
       "    .dataframe tbody tr th {\n",
       "        vertical-align: top;\n",
       "    }\n",
       "\n",
       "    .dataframe thead th {\n",
       "        text-align: right;\n",
       "    }\n",
       "</style>\n",
       "<table border=\"1\" class=\"dataframe\">\n",
       "  <thead>\n",
       "    <tr style=\"text-align: right;\">\n",
       "      <th></th>\n",
       "      <th>normalized_intensity</th>\n",
       "      <th>species</th>\n",
       "      <th>organ</th>\n",
       "      <th>name</th>\n",
       "      <th>comment</th>\n",
       "      <th>year</th>\n",
       "    </tr>\n",
       "  </thead>\n",
       "  <tbody>\n",
       "    <tr>\n",
       "      <th>0</th>\n",
       "      <td>0.002854</td>\n",
       "      <td>Human</td>\n",
       "      <td>serum</td>\n",
       "      <td>2-ketoisocaproic acid minor</td>\n",
       "      <td>date: 2014-03-17 00:00:00, architecture: Leco ...</td>\n",
       "      <td>2014</td>\n",
       "    </tr>\n",
       "    <tr>\n",
       "      <th>1</th>\n",
       "      <td>0.225704</td>\n",
       "      <td>Human</td>\n",
       "      <td>serum</td>\n",
       "      <td>3-hydroxybutyric acid</td>\n",
       "      <td>date: 2014-03-17 00:00:00, architecture: Leco ...</td>\n",
       "      <td>2014</td>\n",
       "    </tr>\n",
       "    <tr>\n",
       "      <th>2</th>\n",
       "      <td>0.282699</td>\n",
       "      <td>Human</td>\n",
       "      <td>serum</td>\n",
       "      <td>z mstfa artifact</td>\n",
       "      <td>date: 2014-03-17 00:00:00, architecture: Leco ...</td>\n",
       "      <td>2014</td>\n",
       "    </tr>\n",
       "    <tr>\n",
       "      <th>3</th>\n",
       "      <td>0.037040</td>\n",
       "      <td>Human</td>\n",
       "      <td>serum</td>\n",
       "      <td>2-hydroxybutanoic acid</td>\n",
       "      <td>date: 2014-03-17 00:00:00, architecture: Leco ...</td>\n",
       "      <td>2014</td>\n",
       "    </tr>\n",
       "    <tr>\n",
       "      <th>4</th>\n",
       "      <td>0.003298</td>\n",
       "      <td>Human</td>\n",
       "      <td>serum</td>\n",
       "      <td>62</td>\n",
       "      <td>date: 2014-03-17 00:00:00, architecture: Leco ...</td>\n",
       "      <td>2014</td>\n",
       "    </tr>\n",
       "    <tr>\n",
       "      <th>...</th>\n",
       "      <td>...</td>\n",
       "      <td>...</td>\n",
       "      <td>...</td>\n",
       "      <td>...</td>\n",
       "      <td>...</td>\n",
       "      <td>...</td>\n",
       "    </tr>\n",
       "    <tr>\n",
       "      <th>2899458</th>\n",
       "      <td>0.153993</td>\n",
       "      <td>human</td>\n",
       "      <td>serum</td>\n",
       "      <td>z C09 FAME internal standard</td>\n",
       "      <td>date: 2019-04-15 12:00:00, architecture: Leco ...</td>\n",
       "      <td>2019</td>\n",
       "    </tr>\n",
       "    <tr>\n",
       "      <th>2899459</th>\n",
       "      <td>0.124645</td>\n",
       "      <td>human</td>\n",
       "      <td>serum</td>\n",
       "      <td>z C08 FAME internal standard</td>\n",
       "      <td>date: 2019-04-15 12:00:00, architecture: Leco ...</td>\n",
       "      <td>2019</td>\n",
       "    </tr>\n",
       "    <tr>\n",
       "      <th>2899460</th>\n",
       "      <td>0.158661</td>\n",
       "      <td>human</td>\n",
       "      <td>serum</td>\n",
       "      <td>z C16 FAME internal standard</td>\n",
       "      <td>date: 2019-04-15 12:00:00, architecture: Leco ...</td>\n",
       "      <td>2019</td>\n",
       "    </tr>\n",
       "    <tr>\n",
       "      <th>2899461</th>\n",
       "      <td>0.142259</td>\n",
       "      <td>human</td>\n",
       "      <td>serum</td>\n",
       "      <td>z C14 FAME internal standard</td>\n",
       "      <td>date: 2019-04-15 12:00:00, architecture: Leco ...</td>\n",
       "      <td>2019</td>\n",
       "    </tr>\n",
       "    <tr>\n",
       "      <th>2899462</th>\n",
       "      <td>0.161105</td>\n",
       "      <td>human</td>\n",
       "      <td>serum</td>\n",
       "      <td>z C10 FAME internal standard</td>\n",
       "      <td>date: 2019-04-15 12:00:00, architecture: Leco ...</td>\n",
       "      <td>2019</td>\n",
       "    </tr>\n",
       "  </tbody>\n",
       "</table>\n",
       "<p>2891006 rows × 6 columns</p>\n",
       "</div>"
      ],
      "text/plain": [
       "         normalized_intensity species  organ                          name  \\\n",
       "0                    0.002854   Human  serum   2-ketoisocaproic acid minor   \n",
       "1                    0.225704   Human  serum         3-hydroxybutyric acid   \n",
       "2                    0.282699   Human  serum              z mstfa artifact   \n",
       "3                    0.037040   Human  serum        2-hydroxybutanoic acid   \n",
       "4                    0.003298   Human  serum                            62   \n",
       "...                       ...     ...    ...                           ...   \n",
       "2899458              0.153993   human  serum  z C09 FAME internal standard   \n",
       "2899459              0.124645   human  serum  z C08 FAME internal standard   \n",
       "2899460              0.158661   human  serum  z C16 FAME internal standard   \n",
       "2899461              0.142259   human  serum  z C14 FAME internal standard   \n",
       "2899462              0.161105   human  serum  z C10 FAME internal standard   \n",
       "\n",
       "                                                   comment  year  \n",
       "0        date: 2014-03-17 00:00:00, architecture: Leco ...  2014  \n",
       "1        date: 2014-03-17 00:00:00, architecture: Leco ...  2014  \n",
       "2        date: 2014-03-17 00:00:00, architecture: Leco ...  2014  \n",
       "3        date: 2014-03-17 00:00:00, architecture: Leco ...  2014  \n",
       "4        date: 2014-03-17 00:00:00, architecture: Leco ...  2014  \n",
       "...                                                    ...   ...  \n",
       "2899458  date: 2019-04-15 12:00:00, architecture: Leco ...  2019  \n",
       "2899459  date: 2019-04-15 12:00:00, architecture: Leco ...  2019  \n",
       "2899460  date: 2019-04-15 12:00:00, architecture: Leco ...  2019  \n",
       "2899461  date: 2019-04-15 12:00:00, architecture: Leco ...  2019  \n",
       "2899462  date: 2019-04-15 12:00:00, architecture: Leco ...  2019  \n",
       "\n",
       "[2891006 rows x 6 columns]"
      ]
     },
     "execution_count": 55,
     "metadata": {},
     "output_type": "execute_result"
    }
   ],
   "source": [
    "temp"
   ]
  },
  {
   "cell_type": "code",
   "execution_count": 56,
   "id": "e347c93d",
   "metadata": {},
   "outputs": [
    {
     "data": {
      "text/plain": [
       "<AxesSubplot:>"
      ]
     },
     "execution_count": 56,
     "metadata": {},
     "output_type": "execute_result"
    },
    {
     "data": {
      "image/png": "[encoded data removed]",
      "text/plain": [
       "<Figure size 432x288 with 1 Axes>"
      ]
     },
     "metadata": {
      "needs_background": "light"
     },
     "output_type": "display_data"
    }
   ],
   "source": [
    "temp.normalized_intensity.hist(bins=50)"
   ]
  },
  {
   "cell_type": "code",
   "execution_count": 57,
   "id": "819a5ddf",
   "metadata": {},
   "outputs": [],
   "source": [
    "import numpy as np"
   ]
  },
  {
   "cell_type": "code",
   "execution_count": 58,
   "id": "d147ee5c",
   "metadata": {},
   "outputs": [],
   "source": [
    "temp['log']=np.log(temp['normalized_intensity'])"
   ]
  },
  {
   "cell_type": "code",
   "execution_count": 59,
   "id": "0a0a5e8f",
   "metadata": {},
   "outputs": [
    {
     "data": {
      "text/plain": [
       "4.812731139059609"
      ]
     },
     "execution_count": 59,
     "metadata": {},
     "output_type": "execute_result"
    }
   ],
   "source": [
    "max=temp.log.max()\n",
    "max"
   ]
  },
  {
   "cell_type": "code",
   "execution_count": 60,
   "id": "85e7ce25",
   "metadata": {},
   "outputs": [
    {
     "data": {
      "text/plain": [
       "-14.61160098502155"
      ]
     },
     "execution_count": 60,
     "metadata": {},
     "output_type": "execute_result"
    }
   ],
   "source": [
    "min=temp.log.min()\n",
    "min"
   ]
  },
  {
   "cell_type": "code",
   "execution_count": 61,
   "id": "97f6bd35",
   "metadata": {},
   "outputs": [
    {
     "data": {
      "text/plain": [
       "<AxesSubplot:>"
      ]
     },
     "execution_count": 61,
     "metadata": {},
     "output_type": "execute_result"
    },
    {
     "data": {
      "image/png": "[encoded data removed]",
      "text/plain": [
       "<Figure size 432x288 with 1 Axes>"
      ]
     },
     "metadata": {
      "needs_background": "light"
     },
     "output_type": "display_data"
    }
   ],
   "source": [
    "temp.log.hist(bins=50)"
   ]
  },
  {
   "cell_type": "code",
   "execution_count": 62,
   "id": "60856589",
   "metadata": {},
   "outputs": [
    {
     "data": {
      "text/plain": [
       "2021.0"
      ]
     },
     "execution_count": 62,
     "metadata": {},
     "output_type": "execute_result"
    }
   ],
   "source": [
    "earliest=temp.year.astype(float).min()\n",
    "earliest\n",
    "\n",
    "latest=temp.year.astype(float).max()\n",
    "latest"
   ]
  },
  {
   "cell_type": "code",
   "execution_count": 63,
   "id": "e2a8a80c",
   "metadata": {},
   "outputs": [
    {
     "data": {
      "text/plain": [
       "2011.0"
      ]
     },
     "execution_count": 63,
     "metadata": {},
     "output_type": "execute_result"
    }
   ],
   "source": [
    "earliest"
   ]
  },
  {
   "cell_type": "code",
   "execution_count": 64,
   "id": "fed9060a",
   "metadata": {},
   "outputs": [
    {
     "data": {
      "text/plain": [
       "0.09798869845961942"
      ]
     },
     "execution_count": 64,
     "metadata": {},
     "output_type": "execute_result"
    }
   ],
   "source": [
    "#get the bins for the entire panda. we will want to do this for each subset later\n",
    "bin_count=100\n",
    "bin_size=abs((abs(max)-abs(min)))/bin_count\n",
    "bin_size"
   ]
  },
  {
   "cell_type": "code",
   "execution_count": 65,
   "id": "b8c2c51a",
   "metadata": {},
   "outputs": [],
   "source": [
    "#get the average year for the entire panda\n",
    "#we will want to do this for each subset later\n",
    "average_year_list=list()\n",
    "for i in range((bin_count)):\n",
    "    bin_edge_1=min+bin_size*i\n",
    "    bin_edge_2=min+bin_size*i+bin_size\n",
    "    average_year_list.append(temp.loc[(temp.log>=bin_edge_1) & (temp.log<bin_edge_2)]['year'].astype(float).mean())"
   ]
  },
  {
   "cell_type": "code",
   "execution_count": 66,
   "id": "fe58cb71",
   "metadata": {},
   "outputs": [],
   "source": [
    "color_bar_list=list()\n",
    "for i in range(len(average_year_list)):\n",
    "    if pd.isnull(average_year_list[i]):\n",
    "        #print(average_year_list[i])\n",
    "        color_bar_list.append(0)\n",
    "    else:\n",
    "        color_bar_list.append((average_year_list[i]-earliest)/(latest-earliest))"
   ]
  },
  {
   "cell_type": "code",
   "execution_count": null,
   "id": "859f108f",
   "metadata": {},
   "outputs": [],
   "source": []
  },
  {
   "cell_type": "code",
   "execution_count": 67,
   "id": "7ab62edf",
   "metadata": {},
   "outputs": [],
   "source": [
    "import matplotlib.pyplot as plt"
   ]
  },
  {
   "cell_type": "code",
   "execution_count": 68,
   "id": "2fd04a5d",
   "metadata": {},
   "outputs": [],
   "source": [
    "my_cmap=plt.get_cmap('inferno')"
   ]
  },
  {
   "cell_type": "code",
   "execution_count": 69,
   "id": "b859412f",
   "metadata": {},
   "outputs": [
    {
     "data": {
      "image/png": "[encoded data removed]",
      "text/plain": [
       "<Figure size 432x288 with 1 Axes>"
      ]
     },
     "metadata": {
      "needs_background": "light"
     },
     "output_type": "display_data"
    }
   ],
   "source": [
    "N,bins,patches=plt.hist(temp['log'],100)\n",
    "for i in range(len(patches)):\n",
    "    patches[i].set_facecolor(my_cmap(color_bar_list[i]))"
   ]
  },
  {
   "cell_type": "code",
   "execution_count": 70,
   "id": "6a9e6a33",
   "metadata": {},
   "outputs": [
    {
     "name": "stdout",
     "output_type": "stream",
     "text": [
      "0\n",
      "1\n",
      "2\n",
      "3\n",
      "4\n",
      "5\n",
      "6\n",
      "7\n",
      "8\n",
      "9\n",
      "10\n"
     ]
    },
    {
     "data": {
      "image/png": "[encoded data removed]",
      "text/plain": [
       "<Figure size 1440x360 with 11 Axes>"
      ]
     },
     "metadata": {
      "needs_background": "light"
     },
     "output_type": "display_data"
    }
   ],
   "source": [
    "fig,axs=plt.subplots(1,len(temp['year'].unique()),figsize=(20,5))\n",
    "for i,temp_year in enumerate(temp['year'].unique()):\n",
    "    print(i)\n",
    "    #temp['log'].loc[temp['year']==i].hist(bins=100)\n",
    "    axs[i].hist(temp['log'].loc[temp['year']==temp_year].to_list(),bins=100,range=(min,max))\n",
    "    #axs[i].set_ylim([0,120],auto=True)"
   ]
  },
  {
   "cell_type": "code",
   "execution_count": 71,
   "id": "f4645094",
   "metadata": {},
   "outputs": [
    {
     "name": "stdout",
     "output_type": "stream",
     "text": [
      "0\n",
      "1\n",
      "2\n",
      "3\n",
      "4\n",
      "5\n",
      "6\n",
      "7\n",
      "8\n",
      "9\n",
      "10\n"
     ]
    },
    {
     "data": {
      "image/png": "[encoded data removed]",
      "text/plain": [
       "<Figure size 1440x1440 with 11 Axes>"
      ]
     },
     "metadata": {
      "needs_background": "light"
     },
     "output_type": "display_data"
    }
   ],
   "source": [
    "fig,axs=plt.subplots(len(temp['year'].unique()),1,figsize=(20,20))\n",
    "for i,temp_year in enumerate(temp['year'].unique()):\n",
    "    print(i)\n",
    "    #temp['log'].loc[temp['year']==i].hist(bins=100)\n",
    "    axs[i].hist(temp['log'].loc[temp['year']==temp_year].to_list(),bins=100,range=(min,max))\n",
    "    #axs[i].set_ylim([0,120],auto=True)"
   ]
  },
  {
   "cell_type": "code",
   "execution_count": null,
   "id": "ea4031b5",
   "metadata": {},
   "outputs": [],
   "source": []
  },
  {
   "cell_type": "code",
   "execution_count": 72,
   "id": "519556e6",
   "metadata": {},
   "outputs": [
    {
     "data": {
      "text/html": [
       "<div>\n",
       "<style scoped>\n",
       "    .dataframe tbody tr th:only-of-type {\n",
       "        vertical-align: middle;\n",
       "    }\n",
       "\n",
       "    .dataframe tbody tr th {\n",
       "        vertical-align: top;\n",
       "    }\n",
       "\n",
       "    .dataframe thead th {\n",
       "        text-align: right;\n",
       "    }\n",
       "</style>\n",
       "<table border=\"1\" class=\"dataframe\">\n",
       "  <thead>\n",
       "    <tr style=\"text-align: right;\">\n",
       "      <th></th>\n",
       "      <th></th>\n",
       "      <th></th>\n",
       "      <th>normalized_intensity</th>\n",
       "      <th>comment</th>\n",
       "      <th>year</th>\n",
       "      <th>log</th>\n",
       "    </tr>\n",
       "    <tr>\n",
       "      <th>species</th>\n",
       "      <th>organ</th>\n",
       "      <th>name</th>\n",
       "      <th></th>\n",
       "      <th></th>\n",
       "      <th></th>\n",
       "      <th></th>\n",
       "    </tr>\n",
       "  </thead>\n",
       "  <tbody>\n",
       "    <tr>\n",
       "      <th rowspan=\"7\" valign=\"top\">Human</th>\n",
       "      <th rowspan=\"5\" valign=\"top\">Plasma</th>\n",
       "      <th>z mstfa artifact</th>\n",
       "      <td>25883</td>\n",
       "      <td>25883</td>\n",
       "      <td>25883</td>\n",
       "      <td>25883</td>\n",
       "    </tr>\n",
       "    <tr>\n",
       "      <th>z artifact</th>\n",
       "      <td>14802</td>\n",
       "      <td>14802</td>\n",
       "      <td>14802</td>\n",
       "      <td>14802</td>\n",
       "    </tr>\n",
       "    <tr>\n",
       "      <th>z C14 FAME internal standard</th>\n",
       "      <td>13278</td>\n",
       "      <td>13278</td>\n",
       "      <td>13278</td>\n",
       "      <td>13278</td>\n",
       "    </tr>\n",
       "    <tr>\n",
       "      <th>z C10 FAME internal standard</th>\n",
       "      <td>13277</td>\n",
       "      <td>13277</td>\n",
       "      <td>13277</td>\n",
       "      <td>13277</td>\n",
       "    </tr>\n",
       "    <tr>\n",
       "      <th>z C18 FAME internal standard</th>\n",
       "      <td>13276</td>\n",
       "      <td>13276</td>\n",
       "      <td>13276</td>\n",
       "      <td>13276</td>\n",
       "    </tr>\n",
       "    <tr>\n",
       "      <th>...</th>\n",
       "      <th>...</th>\n",
       "      <td>...</td>\n",
       "      <td>...</td>\n",
       "      <td>...</td>\n",
       "      <td>...</td>\n",
       "    </tr>\n",
       "    <tr>\n",
       "      <th>Plasma</th>\n",
       "      <th>411172</th>\n",
       "      <td>1</td>\n",
       "      <td>1</td>\n",
       "      <td>1</td>\n",
       "      <td>1</td>\n",
       "    </tr>\n",
       "    <tr>\n",
       "      <th rowspan=\"3\" valign=\"top\">human</th>\n",
       "      <th rowspan=\"3\" valign=\"top\">plasma</th>\n",
       "      <th>411122</th>\n",
       "      <td>1</td>\n",
       "      <td>1</td>\n",
       "      <td>1</td>\n",
       "      <td>1</td>\n",
       "    </tr>\n",
       "    <tr>\n",
       "      <th>411165</th>\n",
       "      <td>1</td>\n",
       "      <td>1</td>\n",
       "      <td>1</td>\n",
       "      <td>1</td>\n",
       "    </tr>\n",
       "    <tr>\n",
       "      <th>412122</th>\n",
       "      <td>1</td>\n",
       "      <td>1</td>\n",
       "      <td>1</td>\n",
       "      <td>1</td>\n",
       "    </tr>\n",
       "    <tr>\n",
       "      <th>Human</th>\n",
       "      <th>Plasma</th>\n",
       "      <th>505888</th>\n",
       "      <td>1</td>\n",
       "      <td>1</td>\n",
       "      <td>1</td>\n",
       "      <td>1</td>\n",
       "    </tr>\n",
       "  </tbody>\n",
       "</table>\n",
       "<p>10649 rows × 4 columns</p>\n",
       "</div>"
      ],
      "text/plain": [
       "                                              normalized_intensity  comment  \\\n",
       "species organ   name                                                          \n",
       "Human   Plasma  z mstfa artifact                             25883    25883   \n",
       "                z artifact                                   14802    14802   \n",
       "                z C14 FAME internal standard                 13278    13278   \n",
       "                z C10 FAME internal standard                 13277    13277   \n",
       "                z C18 FAME internal standard                 13276    13276   \n",
       "...                                                            ...      ...   \n",
       "        Plasma  411172                                           1        1   \n",
       "human   plasma  411122                                           1        1   \n",
       "                411165                                           1        1   \n",
       "                412122                                           1        1   \n",
       "Human   Plasma  505888                                           1        1   \n",
       "\n",
       "                                               year    log  \n",
       "species organ   name                                        \n",
       "Human   Plasma  z mstfa artifact              25883  25883  \n",
       "                z artifact                    14802  14802  \n",
       "                z C14 FAME internal standard  13278  13278  \n",
       "                z C10 FAME internal standard  13277  13277  \n",
       "                z C18 FAME internal standard  13276  13276  \n",
       "...                                             ...    ...  \n",
       "        Plasma  411172                            1      1  \n",
       "human   plasma  411122                            1      1  \n",
       "                411165                            1      1  \n",
       "                412122                            1      1  \n",
       "Human   Plasma  505888                            1      1  \n",
       "\n",
       "[10649 rows x 4 columns]"
      ]
     },
     "execution_count": 72,
     "metadata": {},
     "output_type": "execute_result"
    }
   ],
   "source": [
    "temp_grouped_by_soc=temp.groupby(by=['species','organ','name'],axis='index').count()\n",
    "\n",
    "temp_grouped_by_soc.sort_values(by='log',axis='index',ascending=False,inplace=True)\n",
    "temp_grouped_by_soc"
   ]
  },
  {
   "cell_type": "code",
   "execution_count": null,
   "id": "ae1e139c",
   "metadata": {},
   "outputs": [],
   "source": []
  },
  {
   "cell_type": "code",
   "execution_count": null,
   "id": "2f52403d",
   "metadata": {},
   "outputs": [],
   "source": []
  },
  {
   "cell_type": "code",
   "execution_count": 73,
   "id": "1f5519fa",
   "metadata": {},
   "outputs": [],
   "source": [
    "number_of_metadata=30\n",
    "number_of_compounds=16"
   ]
  },
  {
   "cell_type": "code",
   "execution_count": 74,
   "id": "40d96754",
   "metadata": {},
   "outputs": [],
   "source": [
    "temp['metadata_combos']=list(zip(temp['species'],temp['organ']))\n"
   ]
  },
  {
   "cell_type": "code",
   "execution_count": null,
   "id": "9665255b",
   "metadata": {},
   "outputs": [],
   "source": []
  },
  {
   "cell_type": "code",
   "execution_count": 75,
   "id": "527335f6",
   "metadata": {},
   "outputs": [],
   "source": [
    "#metadata_combos=list(set(tuple(zip(temp['species'],temp['organ']))))\n"
   ]
  },
  {
   "cell_type": "code",
   "execution_count": 76,
   "id": "0fc00b14",
   "metadata": {},
   "outputs": [],
   "source": [
    "#got the top 30 from the other analysis\n",
    "metadata_combos=[('Human', 'Plasma '),\n",
    " ('human', 'plasma'),\n",
    " ('Human', 'serum'),\n",
    " ('human', 'serum'),\n",
    " ('Human', 'urine'),\n",
    " ('human', 'EDTA Plasma'),\n",
    " ('Mouse', 'Liver'),\n",
    " ('Human', 'plasma'),\n",
    " ('mouse', 'plasma'),\n",
    " ('mouse', 'serum'),\n",
    " ('human', 'urine'),\n",
    " ('Mouse', 'Plasma '),\n",
    " ('Human', 'EDTA Plasma'),\n",
    " ('Mouse', 'serum'),\n",
    " ('Human', 'Plasma'),\n",
    " ('Mouse', 'urine'),\n",
    " ('Rat', 'serum'),\n",
    " ('Rat', 'Plasma '),\n",
    " ('Mouse', 'plasma'),\n",
    " ('Mouse', 'Muscle'),\n",
    " ('Human', 'Liver'),\n",
    " ('Sheep', 'Plasma '),\n",
    " ('Mouse', 'spinal cord'),\n",
    " ('Horse', 'Plasma'),\n",
    " ('Horse', 'Plasma '),\n",
    " ('mouse', 'spinal cord'),\n",
    " ('bovine', 'plasma'),\n",
    " ('bovine', 'serum'),\n",
    " ('Mouse', 'Plasma'),\n",
    " ('Mouse', 'EDTA Plasma')]"
   ]
  },
  {
   "cell_type": "code",
   "execution_count": 77,
   "id": "b492d087",
   "metadata": {},
   "outputs": [],
   "source": [
    "compounds=list(temp['name'].unique())\n"
   ]
  },
  {
   "cell_type": "code",
   "execution_count": 78,
   "id": "d0993fe9",
   "metadata": {},
   "outputs": [],
   "source": [
    "compounds_sublist=['1,5-anhydroglucitol','alanine',\n",
    "'cholesterol',  'glucose',\n",
    "'glutamine','glycine',\n",
    "'isoleucine',     \n",
    "'leucine',    \n",
    "'lysine',   \n",
    "'oxoproline',  \n",
    "'palmitic acid',\n",
    "'phosphate',\n",
    "'proline',\n",
    "'stearic acid',  \n",
    "'tryptophan 3TMS',\n",
    "'tyrosine', \n",
    "'valine',\n",
    "'z mstfa artifact', ]"
   ]
  },
  {
   "cell_type": "code",
   "execution_count": null,
   "id": "ea920f04",
   "metadata": {},
   "outputs": [],
   "source": []
  },
  {
   "cell_type": "code",
   "execution_count": null,
   "id": "05430af7",
   "metadata": {},
   "outputs": [],
   "source": []
  },
  {
   "cell_type": "code",
   "execution_count": null,
   "id": "968d3618",
   "metadata": {},
   "outputs": [],
   "source": []
  },
  {
   "cell_type": "code",
   "execution_count": null,
   "id": "b80ea88e",
   "metadata": {},
   "outputs": [],
   "source": []
  },
  {
   "cell_type": "code",
   "execution_count": 79,
   "id": "2c408bd5",
   "metadata": {},
   "outputs": [
    {
     "data": {
      "text/plain": [
       "2021.0"
      ]
     },
     "execution_count": 79,
     "metadata": {},
     "output_type": "execute_result"
    }
   ],
   "source": [
    "#earliest=temp.year.astype(float).min()\n",
    "earlist=temp.loc[\n",
    "    (temp['metadata_combos'].isin(metadata_combos)) &\n",
    "    (temp['name'].isin(compounds_sublist))\n",
    "].year.astype(float).min()\n",
    "earliest\n",
    "\n",
    "#latest=temp.year.astype(float).max()\n",
    "latest=temp.loc[\n",
    "    (temp['metadata_combos'].isin(metadata_combos)) &\n",
    "    (temp['name'].isin(compounds_sublist))\n",
    "].year.astype(float).max()\n",
    "\n",
    "latest"
   ]
  },
  {
   "cell_type": "code",
   "execution_count": 80,
   "id": "5978b17f",
   "metadata": {},
   "outputs": [
    {
     "data": {
      "text/plain": [
       "2011.0"
      ]
     },
     "execution_count": 80,
     "metadata": {},
     "output_type": "execute_result"
    }
   ],
   "source": [
    "earliest"
   ]
  },
  {
   "cell_type": "code",
   "execution_count": 81,
   "id": "1c2d23ac",
   "metadata": {},
   "outputs": [
    {
     "data": {
      "text/html": [
       "<div>\n",
       "<style scoped>\n",
       "    .dataframe tbody tr th:only-of-type {\n",
       "        vertical-align: middle;\n",
       "    }\n",
       "\n",
       "    .dataframe tbody tr th {\n",
       "        vertical-align: top;\n",
       "    }\n",
       "\n",
       "    .dataframe thead th {\n",
       "        text-align: right;\n",
       "    }\n",
       "</style>\n",
       "<table border=\"1\" class=\"dataframe\">\n",
       "  <thead>\n",
       "    <tr style=\"text-align: right;\">\n",
       "      <th></th>\n",
       "      <th>normalized_intensity</th>\n",
       "      <th>species</th>\n",
       "      <th>organ</th>\n",
       "      <th>name</th>\n",
       "      <th>comment</th>\n",
       "      <th>year</th>\n",
       "      <th>log</th>\n",
       "      <th>metadata_combos</th>\n",
       "    </tr>\n",
       "  </thead>\n",
       "  <tbody>\n",
       "    <tr>\n",
       "      <th>2</th>\n",
       "      <td>0.282699</td>\n",
       "      <td>Human</td>\n",
       "      <td>serum</td>\n",
       "      <td>z mstfa artifact</td>\n",
       "      <td>date: 2014-03-17 00:00:00, architecture: Leco ...</td>\n",
       "      <td>2014</td>\n",
       "      <td>-1.263373</td>\n",
       "      <td>(Human, serum)</td>\n",
       "    </tr>\n",
       "    <tr>\n",
       "      <th>5</th>\n",
       "      <td>0.249542</td>\n",
       "      <td>Human</td>\n",
       "      <td>serum</td>\n",
       "      <td>alanine</td>\n",
       "      <td>date: 2014-03-17 00:00:00, architecture: Leco ...</td>\n",
       "      <td>2014</td>\n",
       "      <td>-1.388126</td>\n",
       "      <td>(Human, serum)</td>\n",
       "    </tr>\n",
       "    <tr>\n",
       "      <th>19</th>\n",
       "      <td>0.024453</td>\n",
       "      <td>Human</td>\n",
       "      <td>serum</td>\n",
       "      <td>tryptophan 3TMS</td>\n",
       "      <td>date: 2014-03-17 00:00:00, architecture: Leco ...</td>\n",
       "      <td>2014</td>\n",
       "      <td>-3.711019</td>\n",
       "      <td>(Human, serum)</td>\n",
       "    </tr>\n",
       "    <tr>\n",
       "      <th>23</th>\n",
       "      <td>0.029889</td>\n",
       "      <td>Human</td>\n",
       "      <td>serum</td>\n",
       "      <td>palmitic acid</td>\n",
       "      <td>date: 2014-03-17 00:00:00, architecture: Leco ...</td>\n",
       "      <td>2014</td>\n",
       "      <td>-3.510278</td>\n",
       "      <td>(Human, serum)</td>\n",
       "    </tr>\n",
       "    <tr>\n",
       "      <th>27</th>\n",
       "      <td>0.026778</td>\n",
       "      <td>Human</td>\n",
       "      <td>serum</td>\n",
       "      <td>tyrosine</td>\n",
       "      <td>date: 2014-03-17 00:00:00, architecture: Leco ...</td>\n",
       "      <td>2014</td>\n",
       "      <td>-3.620157</td>\n",
       "      <td>(Human, serum)</td>\n",
       "    </tr>\n",
       "    <tr>\n",
       "      <th>...</th>\n",
       "      <td>...</td>\n",
       "      <td>...</td>\n",
       "      <td>...</td>\n",
       "      <td>...</td>\n",
       "      <td>...</td>\n",
       "      <td>...</td>\n",
       "      <td>...</td>\n",
       "      <td>...</td>\n",
       "    </tr>\n",
       "    <tr>\n",
       "      <th>2899446</th>\n",
       "      <td>0.010047</td>\n",
       "      <td>human</td>\n",
       "      <td>serum</td>\n",
       "      <td>phosphate</td>\n",
       "      <td>date: 2019-04-15 12:00:00, architecture: Leco ...</td>\n",
       "      <td>2019</td>\n",
       "      <td>-4.600492</td>\n",
       "      <td>(human, serum)</td>\n",
       "    </tr>\n",
       "    <tr>\n",
       "      <th>2899447</th>\n",
       "      <td>0.034440</td>\n",
       "      <td>human</td>\n",
       "      <td>serum</td>\n",
       "      <td>leucine</td>\n",
       "      <td>date: 2019-04-15 12:00:00, architecture: Leco ...</td>\n",
       "      <td>2019</td>\n",
       "      <td>-3.368550</td>\n",
       "      <td>(human, serum)</td>\n",
       "    </tr>\n",
       "    <tr>\n",
       "      <th>2899449</th>\n",
       "      <td>0.081143</td>\n",
       "      <td>human</td>\n",
       "      <td>serum</td>\n",
       "      <td>valine</td>\n",
       "      <td>date: 2019-04-15 12:00:00, architecture: Leco ...</td>\n",
       "      <td>2019</td>\n",
       "      <td>-2.511546</td>\n",
       "      <td>(human, serum)</td>\n",
       "    </tr>\n",
       "    <tr>\n",
       "      <th>2899450</th>\n",
       "      <td>0.054716</td>\n",
       "      <td>human</td>\n",
       "      <td>serum</td>\n",
       "      <td>z mstfa artifact</td>\n",
       "      <td>date: 2019-04-15 12:00:00, architecture: Leco ...</td>\n",
       "      <td>2019</td>\n",
       "      <td>-2.905607</td>\n",
       "      <td>(human, serum)</td>\n",
       "    </tr>\n",
       "    <tr>\n",
       "      <th>2899451</th>\n",
       "      <td>0.231459</td>\n",
       "      <td>human</td>\n",
       "      <td>serum</td>\n",
       "      <td>z mstfa artifact</td>\n",
       "      <td>date: 2019-04-15 12:00:00, architecture: Leco ...</td>\n",
       "      <td>2019</td>\n",
       "      <td>-1.463354</td>\n",
       "      <td>(human, serum)</td>\n",
       "    </tr>\n",
       "  </tbody>\n",
       "</table>\n",
       "<p>687767 rows × 8 columns</p>\n",
       "</div>"
      ],
      "text/plain": [
       "         normalized_intensity species  organ              name  \\\n",
       "2                    0.282699   Human  serum  z mstfa artifact   \n",
       "5                    0.249542   Human  serum           alanine   \n",
       "19                   0.024453   Human  serum   tryptophan 3TMS   \n",
       "23                   0.029889   Human  serum     palmitic acid   \n",
       "27                   0.026778   Human  serum          tyrosine   \n",
       "...                       ...     ...    ...               ...   \n",
       "2899446              0.010047   human  serum         phosphate   \n",
       "2899447              0.034440   human  serum           leucine   \n",
       "2899449              0.081143   human  serum            valine   \n",
       "2899450              0.054716   human  serum  z mstfa artifact   \n",
       "2899451              0.231459   human  serum  z mstfa artifact   \n",
       "\n",
       "                                                   comment  year       log  \\\n",
       "2        date: 2014-03-17 00:00:00, architecture: Leco ...  2014 -1.263373   \n",
       "5        date: 2014-03-17 00:00:00, architecture: Leco ...  2014 -1.388126   \n",
       "19       date: 2014-03-17 00:00:00, architecture: Leco ...  2014 -3.711019   \n",
       "23       date: 2014-03-17 00:00:00, architecture: Leco ...  2014 -3.510278   \n",
       "27       date: 2014-03-17 00:00:00, architecture: Leco ...  2014 -3.620157   \n",
       "...                                                    ...   ...       ...   \n",
       "2899446  date: 2019-04-15 12:00:00, architecture: Leco ...  2019 -4.600492   \n",
       "2899447  date: 2019-04-15 12:00:00, architecture: Leco ...  2019 -3.368550   \n",
       "2899449  date: 2019-04-15 12:00:00, architecture: Leco ...  2019 -2.511546   \n",
       "2899450  date: 2019-04-15 12:00:00, architecture: Leco ...  2019 -2.905607   \n",
       "2899451  date: 2019-04-15 12:00:00, architecture: Leco ...  2019 -1.463354   \n",
       "\n",
       "        metadata_combos  \n",
       "2        (Human, serum)  \n",
       "5        (Human, serum)  \n",
       "19       (Human, serum)  \n",
       "23       (Human, serum)  \n",
       "27       (Human, serum)  \n",
       "...                 ...  \n",
       "2899446  (human, serum)  \n",
       "2899447  (human, serum)  \n",
       "2899449  (human, serum)  \n",
       "2899450  (human, serum)  \n",
       "2899451  (human, serum)  \n",
       "\n",
       "[687767 rows x 8 columns]"
      ]
     },
     "execution_count": 81,
     "metadata": {},
     "output_type": "execute_result"
    }
   ],
   "source": [
    "temp.loc[\n",
    "    (temp['metadata_combos'].isin(metadata_combos)) &\n",
    "    (temp['name'].isin(compounds_sublist))\n",
    "]"
   ]
  },
  {
   "cell_type": "code",
   "execution_count": 82,
   "id": "d4125baf",
   "metadata": {},
   "outputs": [],
   "source": [
    "def get_matplotlib_color_info(temp_panda):\n",
    "    #get the average year for the entire panda\n",
    "    #we will want to do this for each subset later\n",
    "    average_year_list=list()\n",
    "    for k in range((bin_count)):\n",
    "        bin_edge_1=min+bin_size*k\n",
    "        bin_edge_2=min+bin_size*k+bin_size\n",
    "        average_year_list.append(temp_panda.loc[(temp.log>=bin_edge_1) & (temp_panda.log<bin_edge_2)]['year'].astype(float).mean())\n",
    "\n",
    "    color_bar_list=list()\n",
    "    for l in range(len(average_year_list)):\n",
    "        if pd.isnull(average_year_list[l]):\n",
    "            #print(average_year_list[l])\n",
    "            color_bar_list.append(0)\n",
    "        else:\n",
    "            color_bar_list.append((average_year_list[l]-earliest)/(latest-earliest))\n",
    "            \n",
    "    return color_bar_list"
   ]
  },
  {
   "cell_type": "code",
   "execution_count": 83,
   "id": "71c5fd2b",
   "metadata": {},
   "outputs": [
    {
     "name": "stdout",
     "output_type": "stream",
     "text": [
      "0\n",
      "0\n",
      "('Human', 'Plasma ')\n",
      "1,5-anhydroglucitol\n",
      "0\n",
      "1\n",
      "('Human', 'Plasma ')\n",
      "alanine\n",
      "0\n",
      "2\n",
      "('Human', 'Plasma ')\n",
      "cholesterol\n",
      "0\n",
      "3\n",
      "('Human', 'Plasma ')\n",
      "glucose\n",
      "0\n",
      "4\n",
      "('Human', 'Plasma ')\n",
      "glutamine\n",
      "0\n",
      "5\n",
      "('Human', 'Plasma ')\n",
      "glycine\n"
     ]
    },
    {
     "ename": "KeyboardInterrupt",
     "evalue": "",
     "output_type": "error",
     "traceback": [
      "\u001b[0;31m---------------------------------------------------------------------------\u001b[0m",
      "\u001b[0;31mKeyboardInterrupt\u001b[0m                         Traceback (most recent call last)",
      "\u001b[0;32m<ipython-input-83-d67c75b3fdb0>\u001b[0m in \u001b[0;36m<module>\u001b[0;34m\u001b[0m\n\u001b[1;32m     42\u001b[0m             \u001b[0mprint\u001b[0m\u001b[0;34m(\u001b[0m\u001b[0mcompounds_sublist\u001b[0m\u001b[0;34m[\u001b[0m\u001b[0mj\u001b[0m\u001b[0;34m]\u001b[0m\u001b[0;34m)\u001b[0m\u001b[0;34m\u001b[0m\u001b[0;34m\u001b[0m\u001b[0m\n\u001b[1;32m     43\u001b[0m \u001b[0;34m\u001b[0m\u001b[0m\n\u001b[0;32m---> 44\u001b[0;31m             temp_colorbar=get_matplotlib_color_info(\n\u001b[0m\u001b[1;32m     45\u001b[0m                 temp.loc[\n\u001b[1;32m     46\u001b[0m                     \u001b[0;34m(\u001b[0m\u001b[0mtemp\u001b[0m\u001b[0;34m[\u001b[0m\u001b[0;34m'metadata_combos'\u001b[0m\u001b[0;34m]\u001b[0m\u001b[0;34m==\u001b[0m\u001b[0mmetadata_combos\u001b[0m\u001b[0;34m[\u001b[0m\u001b[0mi\u001b[0m\u001b[0;34m]\u001b[0m\u001b[0;34m)\u001b[0m \u001b[0;34m&\u001b[0m\u001b[0;34m\u001b[0m\u001b[0;34m\u001b[0m\u001b[0m\n",
      "\u001b[0;32m<ipython-input-82-fbc2fcccb0ac>\u001b[0m in \u001b[0;36mget_matplotlib_color_info\u001b[0;34m(temp_panda)\u001b[0m\n\u001b[1;32m      6\u001b[0m         \u001b[0mbin_edge_1\u001b[0m\u001b[0;34m=\u001b[0m\u001b[0mmin\u001b[0m\u001b[0;34m+\u001b[0m\u001b[0mbin_size\u001b[0m\u001b[0;34m*\u001b[0m\u001b[0mk\u001b[0m\u001b[0;34m\u001b[0m\u001b[0;34m\u001b[0m\u001b[0m\n\u001b[1;32m      7\u001b[0m         \u001b[0mbin_edge_2\u001b[0m\u001b[0;34m=\u001b[0m\u001b[0mmin\u001b[0m\u001b[0;34m+\u001b[0m\u001b[0mbin_size\u001b[0m\u001b[0;34m*\u001b[0m\u001b[0mk\u001b[0m\u001b[0;34m+\u001b[0m\u001b[0mbin_size\u001b[0m\u001b[0;34m\u001b[0m\u001b[0;34m\u001b[0m\u001b[0m\n\u001b[0;32m----> 8\u001b[0;31m         \u001b[0maverage_year_list\u001b[0m\u001b[0;34m.\u001b[0m\u001b[0mappend\u001b[0m\u001b[0;34m(\u001b[0m\u001b[0mtemp_panda\u001b[0m\u001b[0;34m.\u001b[0m\u001b[0mloc\u001b[0m\u001b[0;34m[\u001b[0m\u001b[0;34m(\u001b[0m\u001b[0mtemp\u001b[0m\u001b[0;34m.\u001b[0m\u001b[0mlog\u001b[0m\u001b[0;34m>=\u001b[0m\u001b[0mbin_edge_1\u001b[0m\u001b[0;34m)\u001b[0m \u001b[0;34m&\u001b[0m \u001b[0;34m(\u001b[0m\u001b[0mtemp_panda\u001b[0m\u001b[0;34m.\u001b[0m\u001b[0mlog\u001b[0m\u001b[0;34m<\u001b[0m\u001b[0mbin_edge_2\u001b[0m\u001b[0;34m)\u001b[0m\u001b[0;34m]\u001b[0m\u001b[0;34m[\u001b[0m\u001b[0;34m'year'\u001b[0m\u001b[0;34m]\u001b[0m\u001b[0;34m.\u001b[0m\u001b[0mastype\u001b[0m\u001b[0;34m(\u001b[0m\u001b[0mfloat\u001b[0m\u001b[0;34m)\u001b[0m\u001b[0;34m.\u001b[0m\u001b[0mmean\u001b[0m\u001b[0;34m(\u001b[0m\u001b[0;34m)\u001b[0m\u001b[0;34m)\u001b[0m\u001b[0;34m\u001b[0m\u001b[0;34m\u001b[0m\u001b[0m\n\u001b[0m\u001b[1;32m      9\u001b[0m \u001b[0;34m\u001b[0m\u001b[0m\n\u001b[1;32m     10\u001b[0m     \u001b[0mcolor_bar_list\u001b[0m\u001b[0;34m=\u001b[0m\u001b[0mlist\u001b[0m\u001b[0;34m(\u001b[0m\u001b[0;34m)\u001b[0m\u001b[0;34m\u001b[0m\u001b[0;34m\u001b[0m\u001b[0m\n",
      "\u001b[0;32m~/anaconda3/lib/python3.8/site-packages/pandas/core/indexing.py\u001b[0m in \u001b[0;36m__getitem__\u001b[0;34m(self, key)\u001b[0m\n\u001b[1;32m    893\u001b[0m \u001b[0;34m\u001b[0m\u001b[0m\n\u001b[1;32m    894\u001b[0m             \u001b[0mmaybe_callable\u001b[0m \u001b[0;34m=\u001b[0m \u001b[0mcom\u001b[0m\u001b[0;34m.\u001b[0m\u001b[0mapply_if_callable\u001b[0m\u001b[0;34m(\u001b[0m\u001b[0mkey\u001b[0m\u001b[0;34m,\u001b[0m \u001b[0mself\u001b[0m\u001b[0;34m.\u001b[0m\u001b[0mobj\u001b[0m\u001b[0;34m)\u001b[0m\u001b[0;34m\u001b[0m\u001b[0;34m\u001b[0m\u001b[0m\n\u001b[0;32m--> 895\u001b[0;31m             \u001b[0;32mreturn\u001b[0m \u001b[0mself\u001b[0m\u001b[0;34m.\u001b[0m\u001b[0m_getitem_axis\u001b[0m\u001b[0;34m(\u001b[0m\u001b[0mmaybe_callable\u001b[0m\u001b[0;34m,\u001b[0m \u001b[0maxis\u001b[0m\u001b[0;34m=\u001b[0m\u001b[0maxis\u001b[0m\u001b[0;34m)\u001b[0m\u001b[0;34m\u001b[0m\u001b[0;34m\u001b[0m\u001b[0m\n\u001b[0m\u001b[1;32m    896\u001b[0m \u001b[0;34m\u001b[0m\u001b[0m\n\u001b[1;32m    897\u001b[0m     \u001b[0;32mdef\u001b[0m \u001b[0m_is_scalar_access\u001b[0m\u001b[0;34m(\u001b[0m\u001b[0mself\u001b[0m\u001b[0;34m,\u001b[0m \u001b[0mkey\u001b[0m\u001b[0;34m:\u001b[0m \u001b[0mTuple\u001b[0m\u001b[0;34m)\u001b[0m\u001b[0;34m:\u001b[0m\u001b[0;34m\u001b[0m\u001b[0;34m\u001b[0m\u001b[0m\n",
      "\u001b[0;32m~/anaconda3/lib/python3.8/site-packages/pandas/core/indexing.py\u001b[0m in \u001b[0;36m_getitem_axis\u001b[0;34m(self, key, axis)\u001b[0m\n\u001b[1;32m   1102\u001b[0m             \u001b[0;32mreturn\u001b[0m \u001b[0mself\u001b[0m\u001b[0;34m.\u001b[0m\u001b[0m_get_slice_axis\u001b[0m\u001b[0;34m(\u001b[0m\u001b[0mkey\u001b[0m\u001b[0;34m,\u001b[0m \u001b[0maxis\u001b[0m\u001b[0;34m=\u001b[0m\u001b[0maxis\u001b[0m\u001b[0;34m)\u001b[0m\u001b[0;34m\u001b[0m\u001b[0;34m\u001b[0m\u001b[0m\n\u001b[1;32m   1103\u001b[0m         \u001b[0;32melif\u001b[0m \u001b[0mcom\u001b[0m\u001b[0;34m.\u001b[0m\u001b[0mis_bool_indexer\u001b[0m\u001b[0;34m(\u001b[0m\u001b[0mkey\u001b[0m\u001b[0;34m)\u001b[0m\u001b[0;34m:\u001b[0m\u001b[0;34m\u001b[0m\u001b[0;34m\u001b[0m\u001b[0m\n\u001b[0;32m-> 1104\u001b[0;31m             \u001b[0;32mreturn\u001b[0m \u001b[0mself\u001b[0m\u001b[0;34m.\u001b[0m\u001b[0m_getbool_axis\u001b[0m\u001b[0;34m(\u001b[0m\u001b[0mkey\u001b[0m\u001b[0;34m,\u001b[0m \u001b[0maxis\u001b[0m\u001b[0;34m=\u001b[0m\u001b[0maxis\u001b[0m\u001b[0;34m)\u001b[0m\u001b[0;34m\u001b[0m\u001b[0;34m\u001b[0m\u001b[0m\n\u001b[0m\u001b[1;32m   1105\u001b[0m         \u001b[0;32melif\u001b[0m \u001b[0mis_list_like_indexer\u001b[0m\u001b[0;34m(\u001b[0m\u001b[0mkey\u001b[0m\u001b[0;34m)\u001b[0m\u001b[0;34m:\u001b[0m\u001b[0;34m\u001b[0m\u001b[0;34m\u001b[0m\u001b[0m\n\u001b[1;32m   1106\u001b[0m \u001b[0;34m\u001b[0m\u001b[0m\n",
      "\u001b[0;32m~/anaconda3/lib/python3.8/site-packages/pandas/core/indexing.py\u001b[0m in \u001b[0;36m_getbool_axis\u001b[0;34m(self, key, axis)\u001b[0m\n\u001b[1;32m    910\u001b[0m         \u001b[0;31m# caller is responsible for ensuring non-None axis\u001b[0m\u001b[0;34m\u001b[0m\u001b[0;34m\u001b[0m\u001b[0;34m\u001b[0m\u001b[0m\n\u001b[1;32m    911\u001b[0m         \u001b[0mlabels\u001b[0m \u001b[0;34m=\u001b[0m \u001b[0mself\u001b[0m\u001b[0;34m.\u001b[0m\u001b[0mobj\u001b[0m\u001b[0;34m.\u001b[0m\u001b[0m_get_axis\u001b[0m\u001b[0;34m(\u001b[0m\u001b[0maxis\u001b[0m\u001b[0;34m)\u001b[0m\u001b[0;34m\u001b[0m\u001b[0;34m\u001b[0m\u001b[0m\n\u001b[0;32m--> 912\u001b[0;31m         \u001b[0mkey\u001b[0m \u001b[0;34m=\u001b[0m \u001b[0mcheck_bool_indexer\u001b[0m\u001b[0;34m(\u001b[0m\u001b[0mlabels\u001b[0m\u001b[0;34m,\u001b[0m \u001b[0mkey\u001b[0m\u001b[0;34m)\u001b[0m\u001b[0;34m\u001b[0m\u001b[0;34m\u001b[0m\u001b[0m\n\u001b[0m\u001b[1;32m    913\u001b[0m         \u001b[0minds\u001b[0m \u001b[0;34m=\u001b[0m \u001b[0mkey\u001b[0m\u001b[0;34m.\u001b[0m\u001b[0mnonzero\u001b[0m\u001b[0;34m(\u001b[0m\u001b[0;34m)\u001b[0m\u001b[0;34m[\u001b[0m\u001b[0;36m0\u001b[0m\u001b[0;34m]\u001b[0m\u001b[0;34m\u001b[0m\u001b[0;34m\u001b[0m\u001b[0m\n\u001b[1;32m    914\u001b[0m         \u001b[0;32mreturn\u001b[0m \u001b[0mself\u001b[0m\u001b[0;34m.\u001b[0m\u001b[0mobj\u001b[0m\u001b[0;34m.\u001b[0m\u001b[0m_take_with_is_copy\u001b[0m\u001b[0;34m(\u001b[0m\u001b[0minds\u001b[0m\u001b[0;34m,\u001b[0m \u001b[0maxis\u001b[0m\u001b[0;34m=\u001b[0m\u001b[0maxis\u001b[0m\u001b[0;34m)\u001b[0m\u001b[0;34m\u001b[0m\u001b[0;34m\u001b[0m\u001b[0m\n",
      "\u001b[0;32m~/anaconda3/lib/python3.8/site-packages/pandas/core/indexing.py\u001b[0m in \u001b[0;36mcheck_bool_indexer\u001b[0;34m(index, key)\u001b[0m\n\u001b[1;32m   2264\u001b[0m     \u001b[0mresult\u001b[0m \u001b[0;34m=\u001b[0m \u001b[0mkey\u001b[0m\u001b[0;34m\u001b[0m\u001b[0;34m\u001b[0m\u001b[0m\n\u001b[1;32m   2265\u001b[0m     \u001b[0;32mif\u001b[0m \u001b[0misinstance\u001b[0m\u001b[0;34m(\u001b[0m\u001b[0mkey\u001b[0m\u001b[0;34m,\u001b[0m \u001b[0mABCSeries\u001b[0m\u001b[0;34m)\u001b[0m \u001b[0;32mand\u001b[0m \u001b[0;32mnot\u001b[0m \u001b[0mkey\u001b[0m\u001b[0;34m.\u001b[0m\u001b[0mindex\u001b[0m\u001b[0;34m.\u001b[0m\u001b[0mequals\u001b[0m\u001b[0;34m(\u001b[0m\u001b[0mindex\u001b[0m\u001b[0;34m)\u001b[0m\u001b[0;34m:\u001b[0m\u001b[0;34m\u001b[0m\u001b[0;34m\u001b[0m\u001b[0m\n\u001b[0;32m-> 2266\u001b[0;31m         \u001b[0mresult\u001b[0m \u001b[0;34m=\u001b[0m \u001b[0mresult\u001b[0m\u001b[0;34m.\u001b[0m\u001b[0mreindex\u001b[0m\u001b[0;34m(\u001b[0m\u001b[0mindex\u001b[0m\u001b[0;34m)\u001b[0m\u001b[0;34m\u001b[0m\u001b[0;34m\u001b[0m\u001b[0m\n\u001b[0m\u001b[1;32m   2267\u001b[0m         \u001b[0mmask\u001b[0m \u001b[0;34m=\u001b[0m \u001b[0misna\u001b[0m\u001b[0;34m(\u001b[0m\u001b[0mresult\u001b[0m\u001b[0;34m.\u001b[0m\u001b[0m_values\u001b[0m\u001b[0;34m)\u001b[0m\u001b[0;34m\u001b[0m\u001b[0;34m\u001b[0m\u001b[0m\n\u001b[1;32m   2268\u001b[0m         \u001b[0;32mif\u001b[0m \u001b[0mmask\u001b[0m\u001b[0;34m.\u001b[0m\u001b[0many\u001b[0m\u001b[0;34m(\u001b[0m\u001b[0;34m)\u001b[0m\u001b[0;34m:\u001b[0m\u001b[0;34m\u001b[0m\u001b[0;34m\u001b[0m\u001b[0m\n",
      "\u001b[0;32m~/anaconda3/lib/python3.8/site-packages/pandas/core/series.py\u001b[0m in \u001b[0;36mreindex\u001b[0;34m(self, index, **kwargs)\u001b[0m\n\u001b[1;32m   4343\u001b[0m     )\n\u001b[1;32m   4344\u001b[0m     \u001b[0;32mdef\u001b[0m \u001b[0mreindex\u001b[0m\u001b[0;34m(\u001b[0m\u001b[0mself\u001b[0m\u001b[0;34m,\u001b[0m \u001b[0mindex\u001b[0m\u001b[0;34m=\u001b[0m\u001b[0;32mNone\u001b[0m\u001b[0;34m,\u001b[0m \u001b[0;34m**\u001b[0m\u001b[0mkwargs\u001b[0m\u001b[0;34m)\u001b[0m\u001b[0;34m:\u001b[0m\u001b[0;34m\u001b[0m\u001b[0;34m\u001b[0m\u001b[0m\n\u001b[0;32m-> 4345\u001b[0;31m         \u001b[0;32mreturn\u001b[0m \u001b[0msuper\u001b[0m\u001b[0;34m(\u001b[0m\u001b[0;34m)\u001b[0m\u001b[0;34m.\u001b[0m\u001b[0mreindex\u001b[0m\u001b[0;34m(\u001b[0m\u001b[0mindex\u001b[0m\u001b[0;34m=\u001b[0m\u001b[0mindex\u001b[0m\u001b[0;34m,\u001b[0m \u001b[0;34m**\u001b[0m\u001b[0mkwargs\u001b[0m\u001b[0;34m)\u001b[0m\u001b[0;34m\u001b[0m\u001b[0;34m\u001b[0m\u001b[0m\n\u001b[0m\u001b[1;32m   4346\u001b[0m \u001b[0;34m\u001b[0m\u001b[0m\n\u001b[1;32m   4347\u001b[0m     def drop(\n",
      "\u001b[0;32m~/anaconda3/lib/python3.8/site-packages/pandas/core/generic.py\u001b[0m in \u001b[0;36mreindex\u001b[0;34m(self, *args, **kwargs)\u001b[0m\n\u001b[1;32m   4809\u001b[0m \u001b[0;34m\u001b[0m\u001b[0m\n\u001b[1;32m   4810\u001b[0m         \u001b[0;31m# perform the reindex on the axes\u001b[0m\u001b[0;34m\u001b[0m\u001b[0;34m\u001b[0m\u001b[0;34m\u001b[0m\u001b[0m\n\u001b[0;32m-> 4811\u001b[0;31m         return self._reindex_axes(\n\u001b[0m\u001b[1;32m   4812\u001b[0m             \u001b[0maxes\u001b[0m\u001b[0;34m,\u001b[0m \u001b[0mlevel\u001b[0m\u001b[0;34m,\u001b[0m \u001b[0mlimit\u001b[0m\u001b[0;34m,\u001b[0m \u001b[0mtolerance\u001b[0m\u001b[0;34m,\u001b[0m \u001b[0mmethod\u001b[0m\u001b[0;34m,\u001b[0m \u001b[0mfill_value\u001b[0m\u001b[0;34m,\u001b[0m \u001b[0mcopy\u001b[0m\u001b[0;34m\u001b[0m\u001b[0;34m\u001b[0m\u001b[0m\n\u001b[1;32m   4813\u001b[0m         ).__finalize__(self, method=\"reindex\")\n",
      "\u001b[0;32m~/anaconda3/lib/python3.8/site-packages/pandas/core/generic.py\u001b[0m in \u001b[0;36m_reindex_axes\u001b[0;34m(self, axes, level, limit, tolerance, method, fill_value, copy)\u001b[0m\n\u001b[1;32m   4825\u001b[0m \u001b[0;34m\u001b[0m\u001b[0m\n\u001b[1;32m   4826\u001b[0m             \u001b[0max\u001b[0m \u001b[0;34m=\u001b[0m \u001b[0mself\u001b[0m\u001b[0;34m.\u001b[0m\u001b[0m_get_axis\u001b[0m\u001b[0;34m(\u001b[0m\u001b[0ma\u001b[0m\u001b[0;34m)\u001b[0m\u001b[0;34m\u001b[0m\u001b[0;34m\u001b[0m\u001b[0m\n\u001b[0;32m-> 4827\u001b[0;31m             new_index, indexer = ax.reindex(\n\u001b[0m\u001b[1;32m   4828\u001b[0m                 \u001b[0mlabels\u001b[0m\u001b[0;34m,\u001b[0m \u001b[0mlevel\u001b[0m\u001b[0;34m=\u001b[0m\u001b[0mlevel\u001b[0m\u001b[0;34m,\u001b[0m \u001b[0mlimit\u001b[0m\u001b[0;34m=\u001b[0m\u001b[0mlimit\u001b[0m\u001b[0;34m,\u001b[0m \u001b[0mtolerance\u001b[0m\u001b[0;34m=\u001b[0m\u001b[0mtolerance\u001b[0m\u001b[0;34m,\u001b[0m \u001b[0mmethod\u001b[0m\u001b[0;34m=\u001b[0m\u001b[0mmethod\u001b[0m\u001b[0;34m\u001b[0m\u001b[0;34m\u001b[0m\u001b[0m\n\u001b[1;32m   4829\u001b[0m             )\n",
      "\u001b[0;32m~/anaconda3/lib/python3.8/site-packages/pandas/core/indexes/base.py\u001b[0m in \u001b[0;36mreindex\u001b[0;34m(self, target, method, level, limit, tolerance)\u001b[0m\n\u001b[1;32m   3514\u001b[0m                 \u001b[0mindexer\u001b[0m \u001b[0;34m=\u001b[0m \u001b[0;32mNone\u001b[0m\u001b[0;34m\u001b[0m\u001b[0;34m\u001b[0m\u001b[0m\n\u001b[1;32m   3515\u001b[0m             \u001b[0;32melse\u001b[0m\u001b[0;34m:\u001b[0m\u001b[0;34m\u001b[0m\u001b[0;34m\u001b[0m\u001b[0m\n\u001b[0;32m-> 3516\u001b[0;31m                 \u001b[0;32mif\u001b[0m \u001b[0mself\u001b[0m\u001b[0;34m.\u001b[0m\u001b[0m_index_as_unique\u001b[0m\u001b[0;34m:\u001b[0m\u001b[0;34m\u001b[0m\u001b[0;34m\u001b[0m\u001b[0m\n\u001b[0m\u001b[1;32m   3517\u001b[0m                     indexer = self.get_indexer(\n\u001b[1;32m   3518\u001b[0m                         \u001b[0mtarget\u001b[0m\u001b[0;34m,\u001b[0m \u001b[0mmethod\u001b[0m\u001b[0;34m=\u001b[0m\u001b[0mmethod\u001b[0m\u001b[0;34m,\u001b[0m \u001b[0mlimit\u001b[0m\u001b[0;34m=\u001b[0m\u001b[0mlimit\u001b[0m\u001b[0;34m,\u001b[0m \u001b[0mtolerance\u001b[0m\u001b[0;34m=\u001b[0m\u001b[0mtolerance\u001b[0m\u001b[0;34m\u001b[0m\u001b[0;34m\u001b[0m\u001b[0m\n",
      "\u001b[0;32m~/anaconda3/lib/python3.8/site-packages/pandas/core/indexes/base.py\u001b[0m in \u001b[0;36m_index_as_unique\u001b[0;34m(self)\u001b[0m\n\u001b[1;32m   5008\u001b[0m         \u001b[0mFor\u001b[0m \u001b[0mIntervalIndex\u001b[0m \u001b[0mcompat\u001b[0m\u001b[0;34m.\u001b[0m\u001b[0;34m\u001b[0m\u001b[0;34m\u001b[0m\u001b[0m\n\u001b[1;32m   5009\u001b[0m         \"\"\"\n\u001b[0;32m-> 5010\u001b[0;31m         \u001b[0;32mreturn\u001b[0m \u001b[0mself\u001b[0m\u001b[0;34m.\u001b[0m\u001b[0mis_unique\u001b[0m\u001b[0;34m\u001b[0m\u001b[0;34m\u001b[0m\u001b[0m\n\u001b[0m\u001b[1;32m   5011\u001b[0m \u001b[0;34m\u001b[0m\u001b[0m\n\u001b[1;32m   5012\u001b[0m     \u001b[0;34m@\u001b[0m\u001b[0mfinal\u001b[0m\u001b[0;34m\u001b[0m\u001b[0;34m\u001b[0m\u001b[0m\n",
      "\u001b[0;32mpandas/_libs/properties.pyx\u001b[0m in \u001b[0;36mpandas._libs.properties.CachedProperty.__get__\u001b[0;34m()\u001b[0m\n",
      "\u001b[0;32m~/anaconda3/lib/python3.8/site-packages/pandas/core/indexes/base.py\u001b[0m in \u001b[0;36mis_unique\u001b[0;34m(self)\u001b[0m\n\u001b[1;32m   1767\u001b[0m         \u001b[0mReturn\u001b[0m \u001b[0;32mif\u001b[0m \u001b[0mthe\u001b[0m \u001b[0mindex\u001b[0m \u001b[0mhas\u001b[0m \u001b[0munique\u001b[0m \u001b[0mvalues\u001b[0m\u001b[0;34m.\u001b[0m\u001b[0;34m\u001b[0m\u001b[0;34m\u001b[0m\u001b[0m\n\u001b[1;32m   1768\u001b[0m         \"\"\"\n\u001b[0;32m-> 1769\u001b[0;31m         \u001b[0;32mreturn\u001b[0m \u001b[0mself\u001b[0m\u001b[0;34m.\u001b[0m\u001b[0m_engine\u001b[0m\u001b[0;34m.\u001b[0m\u001b[0mis_unique\u001b[0m\u001b[0;34m\u001b[0m\u001b[0;34m\u001b[0m\u001b[0m\n\u001b[0m\u001b[1;32m   1770\u001b[0m \u001b[0;34m\u001b[0m\u001b[0m\n\u001b[1;32m   1771\u001b[0m     \u001b[0;34m@\u001b[0m\u001b[0mproperty\u001b[0m\u001b[0;34m\u001b[0m\u001b[0;34m\u001b[0m\u001b[0m\n",
      "\u001b[0;31mKeyboardInterrupt\u001b[0m: "
     ]
    },
    {
     "data": {
      "image/png": "[encoded data removed]",
      "text/plain": [
       "<Figure size 2880x1440 with 102 Axes>"
      ]
     },
     "metadata": {
      "needs_background": "light"
     },
     "output_type": "display_data"
    }
   ],
   "source": [
    "metadata_start_num=0\n",
    "metadata_end_num=5\n",
    "\n",
    "fig,axs=plt.subplots((metadata_end_num-metadata_start_num)+1,number_of_compounds+1,figsize=(40,20))\n",
    "\n",
    "i-metadata_start_num\n",
    "\n",
    "#for i in range(number_of_metadata+1):\n",
    "for i in range(metadata_start_num,metadata_end_num+1):\n",
    "    \n",
    "    for j in range(number_of_compounds+1):\n",
    "        \n",
    "        if j==number_of_compounds and i!=metadata_end_num:\n",
    "            axs[i-metadata_start_num,j].set_ylim([0,1],auto=True)\n",
    "            axs[i-metadata_start_num,j].set_xlim([0,1],auto=True)\n",
    "            species_organ_as_string=str(metadata_combos[i])\n",
    "            axs[i-metadata_start_num,j].text(\n",
    "                x=0.1,\n",
    "                y=0.3,\n",
    "                fontsize=30,\n",
    "                s=species_organ_as_string#+'\\ncount:'+str(histo_info_panda.iloc[i,0].total_sample_count)\n",
    "            )\n",
    "            \n",
    "        if i==metadata_end_num and j!= number_of_compounds:\n",
    "            axs[i-metadata_start_num,j].set_ylim([0,1],auto=True)\n",
    "            axs[i-metadata_start_num,j].set_xlim([0,1],auto=True)\n",
    "            #species_organ_as_string=' '.join(histo_info_panda.iloc[0,j].compound)\n",
    "            axs[i,j].text(\n",
    "                x=0.1,\n",
    "                y=0.3,\n",
    "                fontsize=30,\n",
    "                #s=species_organ_as_string+'\\ncount:'+str(histo_info_panda.iloc[i,0].total_sample_count)\n",
    "                s=compounds_sublist[j]#str(histo_info_panda.iloc[0,j].compound)\n",
    "            )        \n",
    "        \n",
    "        \n",
    "        elif j!=number_of_compounds and i!=metadata_end_num:\n",
    "            \n",
    "            print(i)\n",
    "            print(j)\n",
    "            print(metadata_combos[i])\n",
    "            print(compounds_sublist[j])\n",
    "            \n",
    "            temp_colorbar=get_matplotlib_color_info(\n",
    "                temp.loc[\n",
    "                    (temp['metadata_combos']==metadata_combos[i]) &\n",
    "                    (temp['name']==compounds_sublist[j])\n",
    "                ]\n",
    "            )\n",
    "            \n",
    "            \n",
    "            #N,bins,patches=plt.hist(\n",
    "            N,bins,patches=axs[i-metadata_start_num,j].hist(\n",
    "                temp['log'].loc[\n",
    "                    (temp['metadata_combos']==metadata_combos[i]) &\n",
    "                    (temp['name']==compounds[j])\n",
    "                ],\n",
    "                100)\n",
    "            \n",
    "            \n",
    "            for p in range(len(patches)):\n",
    "                patches[p].set_facecolor(my_cmap(color_bar_list[p]))\n",
    "            \n",
    "            #axs[i,j].setp(patches)\n",
    "            \n",
    "            axs[i-metadata_start_num,j].set_xlim(min,max)\n",
    "            \n",
    "            \n",
    "plt.savefig('./test_0_to_5.png', facecolor=fig.get_facecolor())            \n",
    "            \n",
    "            \n",
    "#             axs[i,j].hist(\n",
    "#                 temp['log'].loc[temp['year']==temp_year].to_list(),\n",
    "#                 bins=100,\n",
    "#                 range=(min,max)\n",
    "#             )\n",
    "#             N,bins,patches=plt.hist(temp['log'],100)\n",
    "#             for i in range(len(patches)):\n",
    "#                 patches[i].set_facecolor(my_cmap(color_bar_list[i]))\n",
    "        \n",
    "        \n",
    "#     print(i)\n",
    "#     #temp['log'].loc[temp['year']==i].hist(bins=100)\n",
    "#     axs[i].hist(temp['log'].loc[temp['year']==temp_year].to_list(),bins=100,range=(min,max))"
   ]
  },
  {
   "cell_type": "code",
   "execution_count": null,
   "id": "c3f985b3",
   "metadata": {},
   "outputs": [],
   "source": []
  },
  {
   "cell_type": "code",
   "execution_count": null,
   "id": "52c8a5ea",
   "metadata": {},
   "outputs": [],
   "source": []
  },
  {
   "cell_type": "code",
   "execution_count": null,
   "id": "da577d71",
   "metadata": {},
   "outputs": [],
   "source": []
  },
  {
   "cell_type": "code",
   "execution_count": null,
   "id": "8aaa8c3e",
   "metadata": {},
   "outputs": [],
   "source": []
  },
  {
   "cell_type": "code",
   "execution_count": null,
   "id": "fd477f53",
   "metadata": {},
   "outputs": [],
   "source": []
  },
  {
   "cell_type": "code",
   "execution_count": null,
   "id": "85ed162d",
   "metadata": {},
   "outputs": [],
   "source": []
  },
  {
   "cell_type": "code",
   "execution_count": null,
   "id": "69ec0578",
   "metadata": {},
   "outputs": [],
   "source": []
  },
  {
   "cell_type": "code",
   "execution_count": null,
   "id": "500ec6e9",
   "metadata": {},
   "outputs": [],
   "source": []
  },
  {
   "cell_type": "code",
   "execution_count": null,
   "id": "0270b0ee",
   "metadata": {},
   "outputs": [],
   "source": []
  },
  {
   "cell_type": "code",
   "execution_count": null,
   "id": "31dc696d",
   "metadata": {},
   "outputs": [],
   "source": []
  }
 ],
 "metadata": {
  "kernelspec": {
   "display_name": "Python 3",
   "language": "python",
   "name": "python3"
  },
  "language_info": {
   "codemirror_mode": {
    "name": "ipython",
    "version": 3
   },
   "file_extension": ".py",
   "mimetype": "text/x-python",
   "name": "python",
   "nbconvert_exporter": "python",
   "pygments_lexer": "ipython3",
   "version": "3.8.8"
  }
 },
 "nbformat": 4,
 "nbformat_minor": 5
}
