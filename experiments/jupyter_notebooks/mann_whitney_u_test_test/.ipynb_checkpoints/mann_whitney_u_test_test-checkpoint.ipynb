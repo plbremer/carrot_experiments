{
 "cells": [
  {
   "cell_type": "code",
   "execution_count": 32,
   "id": "1d6f0881",
   "metadata": {},
   "outputs": [],
   "source": [
    "import scipy.stats"
   ]
  },
  {
   "cell_type": "code",
   "execution_count": 33,
   "id": "44cf0a7b",
   "metadata": {},
   "outputs": [],
   "source": [
    "import numpy as np"
   ]
  },
  {
   "cell_type": "code",
   "execution_count": 34,
   "id": "320ecd29",
   "metadata": {},
   "outputs": [],
   "source": [
    "import pandas as pd"
   ]
  },
  {
   "cell_type": "code",
   "execution_count": 35,
   "id": "30abc0e9",
   "metadata": {},
   "outputs": [],
   "source": [
    "file_address=\"../binomial_distro_colored_by_date/all_81_metadata_with_dates.csv\""
   ]
  },
  {
   "cell_type": "code",
   "execution_count": 36,
   "id": "bf6d690b",
   "metadata": {},
   "outputs": [
    {
     "name": "stderr",
     "output_type": "stream",
     "text": [
      "<ipython-input-36-06e789cdf4f3>:1: ParserWarning: Falling back to the 'python' engine because the separator encoded in utf-8 is > 1 char long, and the 'c' engine does not support such separators; you can avoid this warning by specifying engine='python'.\n",
      "  temp=pd.read_csv(file_address,sep='¬')\n"
     ]
    }
   ],
   "source": [
    "temp=pd.read_csv(file_address,sep='¬')"
   ]
  },
  {
   "cell_type": "code",
   "execution_count": 37,
   "id": "149cd0d2",
   "metadata": {},
   "outputs": [],
   "source": [
    "temp=temp.loc[temp.normalized_intensity !=0].copy(deep=True)"
   ]
  },
  {
   "cell_type": "code",
   "execution_count": 38,
   "id": "372bddcf",
   "metadata": {},
   "outputs": [],
   "source": [
    "temp=temp.loc[temp['name']=='cholesterol'].copy(deep=True)"
   ]
  },
  {
   "cell_type": "code",
   "execution_count": 39,
   "id": "3b5e7cdb",
   "metadata": {},
   "outputs": [],
   "source": [
    "temp['log']=np.log(temp['normalized_intensity'])"
   ]
  },
  {
   "cell_type": "code",
   "execution_count": 40,
   "id": "196ad98b",
   "metadata": {},
   "outputs": [],
   "source": [
    "a=temp.loc[\n",
    "    (temp['species']=='human') &\n",
    "    (temp['organ']=='plasma')\n",
    "]['log'].to_list()"
   ]
  },
  {
   "cell_type": "code",
   "execution_count": 41,
   "id": "463a0881",
   "metadata": {},
   "outputs": [],
   "source": [
    "b=temp.loc[\n",
    "    (temp['species']=='Human') &\n",
    "    (temp['organ']=='plasma')\n",
    "]['log'].to_list()"
   ]
  },
  {
   "cell_type": "code",
   "execution_count": 42,
   "id": "50a55324",
   "metadata": {},
   "outputs": [],
   "source": [
    "_,p=scipy.stats.mannwhitneyu(\n",
    "    x=a,\n",
    "    y=b,\n",
    "    use_continuity=True,\n",
    "    alternative='two-sided'#,\n",
    "    #method='auto'\n",
    ")"
   ]
  },
  {
   "cell_type": "code",
   "execution_count": 43,
   "id": "0aa6d7ac",
   "metadata": {},
   "outputs": [
    {
     "data": {
      "text/plain": [
       "9.615223516548395e-155"
      ]
     },
     "execution_count": 43,
     "metadata": {},
     "output_type": "execute_result"
    }
   ],
   "source": [
    "p"
   ]
  },
  {
   "cell_type": "code",
   "execution_count": 44,
   "id": "bc54edd7",
   "metadata": {},
   "outputs": [],
   "source": [
    "c=temp.loc[\n",
    "    (temp['species']=='Human') &\n",
    "    (temp['organ']=='Plasma')\n",
    "]['log'].to_list()"
   ]
  },
  {
   "cell_type": "code",
   "execution_count": 45,
   "id": "70193684",
   "metadata": {},
   "outputs": [],
   "source": [
    "d=temp.loc[\n",
    "    (temp['species']=='human') &\n",
    "    (temp['organ']=='plasma')\n",
    "]['log'].to_list()"
   ]
  },
  {
   "cell_type": "code",
   "execution_count": 46,
   "id": "c1c51c18",
   "metadata": {},
   "outputs": [],
   "source": [
    "_,p=scipy.stats.mannwhitneyu(\n",
    "    x=c,\n",
    "    y=d,\n",
    "    use_continuity=True,\n",
    "    alternative='two-sided'#,\n",
    "    #method='auto'\n",
    ")"
   ]
  },
  {
   "cell_type": "code",
   "execution_count": 47,
   "id": "7aeb6b8f",
   "metadata": {},
   "outputs": [
    {
     "data": {
      "text/plain": [
       "1.4241236461889228e-40"
      ]
     },
     "execution_count": 47,
     "metadata": {},
     "output_type": "execute_result"
    }
   ],
   "source": [
    "p"
   ]
  },
  {
   "cell_type": "code",
   "execution_count": 48,
   "id": "0cda5714",
   "metadata": {},
   "outputs": [
    {
     "data": {
      "text/plain": [
       "407"
      ]
     },
     "execution_count": 48,
     "metadata": {},
     "output_type": "execute_result"
    }
   ],
   "source": [
    "len(c)"
   ]
  },
  {
   "cell_type": "code",
   "execution_count": 49,
   "id": "12f2d64b",
   "metadata": {},
   "outputs": [
    {
     "data": {
      "text/plain": [
       "4203"
      ]
     },
     "execution_count": 49,
     "metadata": {},
     "output_type": "execute_result"
    }
   ],
   "source": [
    "len(d)"
   ]
  },
  {
   "cell_type": "code",
   "execution_count": 51,
   "id": "8408ae59",
   "metadata": {},
   "outputs": [],
   "source": [
    "e=np.median(c)\n",
    "f=np.median(d)"
   ]
  },
  {
   "cell_type": "code",
   "execution_count": 52,
   "id": "c2dfbcc3",
   "metadata": {},
   "outputs": [
    {
     "name": "stdout",
     "output_type": "stream",
     "text": [
      "-1.9905313645812774\n",
      "-2.529511610113009\n",
      "0.7869231975940004\n"
     ]
    }
   ],
   "source": [
    "print(e)\n",
    "print(f)\n",
    "print(e/f)"
   ]
  },
  {
   "cell_type": "code",
   "execution_count": null,
   "id": "ca07ceed",
   "metadata": {},
   "outputs": [],
   "source": []
  }
 ],
 "metadata": {
  "kernelspec": {
   "display_name": "Python 3",
   "language": "python",
   "name": "python3"
  },
  "language_info": {
   "codemirror_mode": {
    "name": "ipython",
    "version": 3
   },
   "file_extension": ".py",
   "mimetype": "text/x-python",
   "name": "python",
   "nbconvert_exporter": "python",
   "pygments_lexer": "ipython3",
   "version": "3.8.8"
  }
 },
 "nbformat": 4,
 "nbformat_minor": 5
}
